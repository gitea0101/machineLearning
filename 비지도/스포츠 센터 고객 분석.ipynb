{
 "cells": [
  {
   "cell_type": "code",
   "execution_count": 1,
   "metadata": {},
   "outputs": [],
   "source": [
    "import pandas as pd\n",
    "import numpy as np"
   ]
  },
  {
   "cell_type": "code",
   "execution_count": 2,
   "metadata": {},
   "outputs": [],
   "source": [
    "c = pd.read_csv(\"customer_join.csv\")\n",
    "ul = pd.read_csv(\"use_log.csv\")"
   ]
  },
  {
   "cell_type": "code",
   "execution_count": 3,
   "metadata": {},
   "outputs": [
    {
     "data": {
      "text/plain": [
       "log_id         0\n",
       "customer_id    0\n",
       "usedate        0\n",
       "dtype: int64"
      ]
     },
     "execution_count": 3,
     "metadata": {},
     "output_type": "execute_result"
    }
   ],
   "source": [
    "ul.isnull().sum()"
   ]
  },
  {
   "cell_type": "code",
   "execution_count": 4,
   "metadata": {},
   "outputs": [
    {
     "data": {
      "text/plain": [
       "customer_id         0\n",
       "name                0\n",
       "class               0\n",
       "gender              0\n",
       "start_date          0\n",
       "end_date         2842\n",
       "campaign_id         0\n",
       "is_deleted          0\n",
       "class_name          0\n",
       "price               0\n",
       "campaign_name       0\n",
       "mean                0\n",
       "median              0\n",
       "amax                0\n",
       "amin                0\n",
       "flag1               0\n",
       "cal_date            0\n",
       "mem_period          0\n",
       "dtype: int64"
      ]
     },
     "execution_count": 4,
     "metadata": {},
     "output_type": "execute_result"
    }
   ],
   "source": [
    "c.isnull().sum()"
   ]
  },
  {
   "cell_type": "markdown",
   "metadata": {},
   "source": [
    "#### 클러스터 사용 K-Means\n",
    " - 군집개수 4개\n",
    " - mean, median, min, max 변수는 월 이용 회수와 관련된 변수 1~8값을 가짐\n",
    " - mem_period 단위 너무 크니 scaling"
   ]
  },
  {
   "cell_type": "code",
   "execution_count": 5,
   "metadata": {},
   "outputs": [
    {
     "data": {
      "text/html": [
       "<div>\n",
       "<style scoped>\n",
       "    .dataframe tbody tr th:only-of-type {\n",
       "        vertical-align: middle;\n",
       "    }\n",
       "\n",
       "    .dataframe tbody tr th {\n",
       "        vertical-align: top;\n",
       "    }\n",
       "\n",
       "    .dataframe thead th {\n",
       "        text-align: right;\n",
       "    }\n",
       "</style>\n",
       "<table border=\"1\" class=\"dataframe\">\n",
       "  <thead>\n",
       "    <tr style=\"text-align: right;\">\n",
       "      <th></th>\n",
       "      <th>mean</th>\n",
       "      <th>median</th>\n",
       "      <th>amax</th>\n",
       "      <th>amin</th>\n",
       "      <th>mem_period</th>\n",
       "    </tr>\n",
       "  </thead>\n",
       "  <tbody>\n",
       "    <tr>\n",
       "      <th>0</th>\n",
       "      <td>4.833333</td>\n",
       "      <td>5.0</td>\n",
       "      <td>8</td>\n",
       "      <td>2</td>\n",
       "      <td>47.968131</td>\n",
       "    </tr>\n",
       "    <tr>\n",
       "      <th>1</th>\n",
       "      <td>5.083333</td>\n",
       "      <td>5.0</td>\n",
       "      <td>7</td>\n",
       "      <td>3</td>\n",
       "      <td>47.968131</td>\n",
       "    </tr>\n",
       "    <tr>\n",
       "      <th>2</th>\n",
       "      <td>4.583333</td>\n",
       "      <td>5.0</td>\n",
       "      <td>6</td>\n",
       "      <td>3</td>\n",
       "      <td>47.968131</td>\n",
       "    </tr>\n",
       "    <tr>\n",
       "      <th>3</th>\n",
       "      <td>4.833333</td>\n",
       "      <td>4.5</td>\n",
       "      <td>7</td>\n",
       "      <td>2</td>\n",
       "      <td>47.968131</td>\n",
       "    </tr>\n",
       "    <tr>\n",
       "      <th>4</th>\n",
       "      <td>3.916667</td>\n",
       "      <td>4.0</td>\n",
       "      <td>6</td>\n",
       "      <td>1</td>\n",
       "      <td>47.968131</td>\n",
       "    </tr>\n",
       "  </tbody>\n",
       "</table>\n",
       "</div>"
      ],
      "text/plain": [
       "       mean  median  amax  amin  mem_period\n",
       "0  4.833333     5.0     8     2   47.968131\n",
       "1  5.083333     5.0     7     3   47.968131\n",
       "2  4.583333     5.0     6     3   47.968131\n",
       "3  4.833333     4.5     7     2   47.968131\n",
       "4  3.916667     4.0     6     1   47.968131"
      ]
     },
     "execution_count": 5,
     "metadata": {},
     "output_type": "execute_result"
    }
   ],
   "source": [
    "cc = c[[\"mean\", \"median\", \"amax\", \"amin\", \"mem_period\"]]\n",
    "cc.head()"
   ]
  },
  {
   "cell_type": "code",
   "execution_count": 6,
   "metadata": {},
   "outputs": [],
   "source": [
    "from sklearn.preprocessing import StandardScaler\n",
    "from sklearn.cluster import KMeans"
   ]
  },
  {
   "cell_type": "code",
   "execution_count": 7,
   "metadata": {},
   "outputs": [
    {
     "data": {
      "text/html": [
       "<div>\n",
       "<style scoped>\n",
       "    .dataframe tbody tr th:only-of-type {\n",
       "        vertical-align: middle;\n",
       "    }\n",
       "\n",
       "    .dataframe tbody tr th {\n",
       "        vertical-align: top;\n",
       "    }\n",
       "\n",
       "    .dataframe thead th {\n",
       "        text-align: right;\n",
       "    }\n",
       "</style>\n",
       "<table border=\"1\" class=\"dataframe\">\n",
       "  <thead>\n",
       "    <tr style=\"text-align: right;\">\n",
       "      <th></th>\n",
       "      <th>mean</th>\n",
       "      <th>median</th>\n",
       "      <th>amax</th>\n",
       "      <th>amin</th>\n",
       "      <th>mem_period</th>\n",
       "    </tr>\n",
       "  </thead>\n",
       "  <tbody>\n",
       "    <tr>\n",
       "      <th>0</th>\n",
       "      <td>-0.281206</td>\n",
       "      <td>-0.133676</td>\n",
       "      <td>0.081177</td>\n",
       "      <td>-0.533620</td>\n",
       "      <td>2.031859</td>\n",
       "    </tr>\n",
       "    <tr>\n",
       "      <th>1</th>\n",
       "      <td>-0.140545</td>\n",
       "      <td>-0.133676</td>\n",
       "      <td>-0.379928</td>\n",
       "      <td>-0.021149</td>\n",
       "      <td>2.031859</td>\n",
       "    </tr>\n",
       "    <tr>\n",
       "      <th>2</th>\n",
       "      <td>-0.421867</td>\n",
       "      <td>-0.133676</td>\n",
       "      <td>-0.841034</td>\n",
       "      <td>-0.021149</td>\n",
       "      <td>2.031859</td>\n",
       "    </tr>\n",
       "    <tr>\n",
       "      <th>3</th>\n",
       "      <td>-0.281206</td>\n",
       "      <td>-0.400393</td>\n",
       "      <td>-0.379928</td>\n",
       "      <td>-0.533620</td>\n",
       "      <td>2.031859</td>\n",
       "    </tr>\n",
       "    <tr>\n",
       "      <th>4</th>\n",
       "      <td>-0.796964</td>\n",
       "      <td>-0.667109</td>\n",
       "      <td>-0.841034</td>\n",
       "      <td>-1.046090</td>\n",
       "      <td>2.031859</td>\n",
       "    </tr>\n",
       "  </tbody>\n",
       "</table>\n",
       "</div>"
      ],
      "text/plain": [
       "       mean    median      amax      amin  mem_period\n",
       "0 -0.281206 -0.133676  0.081177 -0.533620    2.031859\n",
       "1 -0.140545 -0.133676 -0.379928 -0.021149    2.031859\n",
       "2 -0.421867 -0.133676 -0.841034 -0.021149    2.031859\n",
       "3 -0.281206 -0.400393 -0.379928 -0.533620    2.031859\n",
       "4 -0.796964 -0.667109 -0.841034 -1.046090    2.031859"
      ]
     },
     "execution_count": 7,
     "metadata": {},
     "output_type": "execute_result"
    }
   ],
   "source": [
    "scaler = StandardScaler()\n",
    "x_scaled = scaler.fit_transform(cc)\n",
    "x_scaled = pd.DataFrame(x_scaled, columns=[\"mean\", \"median\", \"amax\", \"amin\", \"mem_period\"])\n",
    "x_scaled.head()"
   ]
  },
  {
   "cell_type": "code",
   "execution_count": 8,
   "metadata": {},
   "outputs": [],
   "source": [
    "kmeans = KMeans(n_clusters=4, random_state=0)\n",
    "clusters = kmeans.fit(x_scaled)"
   ]
  },
  {
   "cell_type": "code",
   "execution_count": 9,
   "metadata": {},
   "outputs": [
    {
     "name": "stderr",
     "output_type": "stream",
     "text": [
      "C:\\Users\\user\\AppData\\Local\\Temp\\ipykernel_9020\\3599466053.py:1: SettingWithCopyWarning: \n",
      "A value is trying to be set on a copy of a slice from a DataFrame.\n",
      "Try using .loc[row_indexer,col_indexer] = value instead\n",
      "\n",
      "See the caveats in the documentation: https://pandas.pydata.org/pandas-docs/stable/user_guide/indexing.html#returning-a-view-versus-a-copy\n",
      "  cc[\"cluster\"] = clusters.labels_\n"
     ]
    },
    {
     "data": {
      "text/html": [
       "<div>\n",
       "<style scoped>\n",
       "    .dataframe tbody tr th:only-of-type {\n",
       "        vertical-align: middle;\n",
       "    }\n",
       "\n",
       "    .dataframe tbody tr th {\n",
       "        vertical-align: top;\n",
       "    }\n",
       "\n",
       "    .dataframe thead th {\n",
       "        text-align: right;\n",
       "    }\n",
       "</style>\n",
       "<table border=\"1\" class=\"dataframe\">\n",
       "  <thead>\n",
       "    <tr style=\"text-align: right;\">\n",
       "      <th></th>\n",
       "      <th>mean</th>\n",
       "      <th>median</th>\n",
       "      <th>amax</th>\n",
       "      <th>amin</th>\n",
       "      <th>mem_period</th>\n",
       "      <th>cluster</th>\n",
       "    </tr>\n",
       "  </thead>\n",
       "  <tbody>\n",
       "    <tr>\n",
       "      <th>0</th>\n",
       "      <td>4.833333</td>\n",
       "      <td>5.0</td>\n",
       "      <td>8</td>\n",
       "      <td>2</td>\n",
       "      <td>47.968131</td>\n",
       "      <td>1</td>\n",
       "    </tr>\n",
       "    <tr>\n",
       "      <th>1</th>\n",
       "      <td>5.083333</td>\n",
       "      <td>5.0</td>\n",
       "      <td>7</td>\n",
       "      <td>3</td>\n",
       "      <td>47.968131</td>\n",
       "      <td>1</td>\n",
       "    </tr>\n",
       "    <tr>\n",
       "      <th>2</th>\n",
       "      <td>4.583333</td>\n",
       "      <td>5.0</td>\n",
       "      <td>6</td>\n",
       "      <td>3</td>\n",
       "      <td>47.968131</td>\n",
       "      <td>1</td>\n",
       "    </tr>\n",
       "    <tr>\n",
       "      <th>3</th>\n",
       "      <td>4.833333</td>\n",
       "      <td>4.5</td>\n",
       "      <td>7</td>\n",
       "      <td>2</td>\n",
       "      <td>47.968131</td>\n",
       "      <td>1</td>\n",
       "    </tr>\n",
       "    <tr>\n",
       "      <th>4</th>\n",
       "      <td>3.916667</td>\n",
       "      <td>4.0</td>\n",
       "      <td>6</td>\n",
       "      <td>1</td>\n",
       "      <td>47.968131</td>\n",
       "      <td>1</td>\n",
       "    </tr>\n",
       "  </tbody>\n",
       "</table>\n",
       "</div>"
      ],
      "text/plain": [
       "       mean  median  amax  amin  mem_period  cluster\n",
       "0  4.833333     5.0     8     2   47.968131        1\n",
       "1  5.083333     5.0     7     3   47.968131        1\n",
       "2  4.583333     5.0     6     3   47.968131        1\n",
       "3  4.833333     4.5     7     2   47.968131        1\n",
       "4  3.916667     4.0     6     1   47.968131        1"
      ]
     },
     "execution_count": 9,
     "metadata": {},
     "output_type": "execute_result"
    }
   ],
   "source": [
    "cc[\"cluster\"] = clusters.labels_\n",
    "cc.head()"
   ]
  },
  {
   "cell_type": "code",
   "execution_count": 10,
   "metadata": {},
   "outputs": [
    {
     "name": "stderr",
     "output_type": "stream",
     "text": [
      "C:\\Users\\user\\AppData\\Local\\Temp\\ipykernel_9020\\382428698.py:1: SettingWithCopyWarning: \n",
      "A value is trying to be set on a copy of a slice from a DataFrame\n",
      "\n",
      "See the caveats in the documentation: https://pandas.pydata.org/pandas-docs/stable/user_guide/indexing.html#returning-a-view-versus-a-copy\n",
      "  cc.rename(columns={\"mean\" : \"월 평균\", \"median\" : \"월별 중간값\",\n"
     ]
    },
    {
     "data": {
      "text/html": [
       "<div>\n",
       "<style scoped>\n",
       "    .dataframe tbody tr th:only-of-type {\n",
       "        vertical-align: middle;\n",
       "    }\n",
       "\n",
       "    .dataframe tbody tr th {\n",
       "        vertical-align: top;\n",
       "    }\n",
       "\n",
       "    .dataframe thead th {\n",
       "        text-align: right;\n",
       "    }\n",
       "</style>\n",
       "<table border=\"1\" class=\"dataframe\">\n",
       "  <thead>\n",
       "    <tr style=\"text-align: right;\">\n",
       "      <th></th>\n",
       "      <th>월 평균</th>\n",
       "      <th>월별 중간값</th>\n",
       "      <th>월 최대값</th>\n",
       "      <th>월 최소값</th>\n",
       "      <th>회원기간</th>\n",
       "      <th>cluster</th>\n",
       "    </tr>\n",
       "  </thead>\n",
       "  <tbody>\n",
       "    <tr>\n",
       "      <th>0</th>\n",
       "      <td>4.833333</td>\n",
       "      <td>5.0</td>\n",
       "      <td>8</td>\n",
       "      <td>2</td>\n",
       "      <td>47.968131</td>\n",
       "      <td>1</td>\n",
       "    </tr>\n",
       "    <tr>\n",
       "      <th>1</th>\n",
       "      <td>5.083333</td>\n",
       "      <td>5.0</td>\n",
       "      <td>7</td>\n",
       "      <td>3</td>\n",
       "      <td>47.968131</td>\n",
       "      <td>1</td>\n",
       "    </tr>\n",
       "    <tr>\n",
       "      <th>2</th>\n",
       "      <td>4.583333</td>\n",
       "      <td>5.0</td>\n",
       "      <td>6</td>\n",
       "      <td>3</td>\n",
       "      <td>47.968131</td>\n",
       "      <td>1</td>\n",
       "    </tr>\n",
       "    <tr>\n",
       "      <th>3</th>\n",
       "      <td>4.833333</td>\n",
       "      <td>4.5</td>\n",
       "      <td>7</td>\n",
       "      <td>2</td>\n",
       "      <td>47.968131</td>\n",
       "      <td>1</td>\n",
       "    </tr>\n",
       "    <tr>\n",
       "      <th>4</th>\n",
       "      <td>3.916667</td>\n",
       "      <td>4.0</td>\n",
       "      <td>6</td>\n",
       "      <td>1</td>\n",
       "      <td>47.968131</td>\n",
       "      <td>1</td>\n",
       "    </tr>\n",
       "  </tbody>\n",
       "</table>\n",
       "</div>"
      ],
      "text/plain": [
       "       월 평균  월별 중간값  월 최대값  월 최소값       회원기간  cluster\n",
       "0  4.833333     5.0      8      2  47.968131        1\n",
       "1  5.083333     5.0      7      3  47.968131        1\n",
       "2  4.583333     5.0      6      3  47.968131        1\n",
       "3  4.833333     4.5      7      2  47.968131        1\n",
       "4  3.916667     4.0      6      1  47.968131        1"
      ]
     },
     "execution_count": 10,
     "metadata": {},
     "output_type": "execute_result"
    }
   ],
   "source": [
    "cc.rename(columns={\"mean\" : \"월 평균\", \"median\" : \"월별 중간값\",\n",
    "                   \"amax\" : \"월 최대값\", \"amin\" : \"월 최소값\",\n",
    "                   \"mem_period\" : \"회원기간\"}, inplace=True)\n",
    "cc.head()"
   ]
  },
  {
   "cell_type": "code",
   "execution_count": 11,
   "metadata": {},
   "outputs": [
    {
     "data": {
      "text/html": [
       "<div>\n",
       "<style scoped>\n",
       "    .dataframe tbody tr th:only-of-type {\n",
       "        vertical-align: middle;\n",
       "    }\n",
       "\n",
       "    .dataframe tbody tr th {\n",
       "        vertical-align: top;\n",
       "    }\n",
       "\n",
       "    .dataframe thead th {\n",
       "        text-align: right;\n",
       "    }\n",
       "</style>\n",
       "<table border=\"1\" class=\"dataframe\">\n",
       "  <thead>\n",
       "    <tr style=\"text-align: right;\">\n",
       "      <th></th>\n",
       "      <th>월 평균</th>\n",
       "      <th>월별 중간값</th>\n",
       "      <th>월 최대값</th>\n",
       "      <th>월 최소값</th>\n",
       "      <th>회원기간</th>\n",
       "    </tr>\n",
       "    <tr>\n",
       "      <th>cluster</th>\n",
       "      <th></th>\n",
       "      <th></th>\n",
       "      <th></th>\n",
       "      <th></th>\n",
       "      <th></th>\n",
       "    </tr>\n",
       "  </thead>\n",
       "  <tbody>\n",
       "    <tr>\n",
       "      <th>0</th>\n",
       "      <td>846</td>\n",
       "      <td>846</td>\n",
       "      <td>846</td>\n",
       "      <td>846</td>\n",
       "      <td>846</td>\n",
       "    </tr>\n",
       "    <tr>\n",
       "      <th>1</th>\n",
       "      <td>1251</td>\n",
       "      <td>1251</td>\n",
       "      <td>1251</td>\n",
       "      <td>1251</td>\n",
       "      <td>1251</td>\n",
       "    </tr>\n",
       "    <tr>\n",
       "      <th>2</th>\n",
       "      <td>759</td>\n",
       "      <td>759</td>\n",
       "      <td>759</td>\n",
       "      <td>759</td>\n",
       "      <td>759</td>\n",
       "    </tr>\n",
       "    <tr>\n",
       "      <th>3</th>\n",
       "      <td>1336</td>\n",
       "      <td>1336</td>\n",
       "      <td>1336</td>\n",
       "      <td>1336</td>\n",
       "      <td>1336</td>\n",
       "    </tr>\n",
       "  </tbody>\n",
       "</table>\n",
       "</div>"
      ],
      "text/plain": [
       "         월 평균  월별 중간값  월 최대값  월 최소값  회원기간\n",
       "cluster                                  \n",
       "0         846     846    846    846   846\n",
       "1        1251    1251   1251   1251  1251\n",
       "2         759     759    759    759   759\n",
       "3        1336    1336   1336   1336  1336"
      ]
     },
     "execution_count": 11,
     "metadata": {},
     "output_type": "execute_result"
    }
   ],
   "source": [
    "cc.groupby(\"cluster\").count()"
   ]
  },
  {
   "cell_type": "code",
   "execution_count": 12,
   "metadata": {},
   "outputs": [
    {
     "data": {
      "text/html": [
       "<div>\n",
       "<style scoped>\n",
       "    .dataframe tbody tr th:only-of-type {\n",
       "        vertical-align: middle;\n",
       "    }\n",
       "\n",
       "    .dataframe tbody tr th {\n",
       "        vertical-align: top;\n",
       "    }\n",
       "\n",
       "    .dataframe thead th {\n",
       "        text-align: right;\n",
       "    }\n",
       "</style>\n",
       "<table border=\"1\" class=\"dataframe\">\n",
       "  <thead>\n",
       "    <tr style=\"text-align: right;\">\n",
       "      <th></th>\n",
       "      <th>월 평균</th>\n",
       "      <th>월별 중간값</th>\n",
       "      <th>월 최대값</th>\n",
       "      <th>월 최소값</th>\n",
       "      <th>회원기간</th>\n",
       "    </tr>\n",
       "    <tr>\n",
       "      <th>cluster</th>\n",
       "      <th></th>\n",
       "      <th></th>\n",
       "      <th></th>\n",
       "      <th></th>\n",
       "      <th></th>\n",
       "    </tr>\n",
       "  </thead>\n",
       "  <tbody>\n",
       "    <tr>\n",
       "      <th>0</th>\n",
       "      <td>8.054608</td>\n",
       "      <td>8.039598</td>\n",
       "      <td>10.009456</td>\n",
       "      <td>6.160757</td>\n",
       "      <td>7.809637</td>\n",
       "    </tr>\n",
       "    <tr>\n",
       "      <th>1</th>\n",
       "      <td>4.676091</td>\n",
       "      <td>4.670264</td>\n",
       "      <td>7.231815</td>\n",
       "      <td>2.153477</td>\n",
       "      <td>37.819727</td>\n",
       "    </tr>\n",
       "    <tr>\n",
       "      <th>2</th>\n",
       "      <td>3.049270</td>\n",
       "      <td>2.882740</td>\n",
       "      <td>4.745718</td>\n",
       "      <td>1.652174</td>\n",
       "      <td>10.147960</td>\n",
       "    </tr>\n",
       "    <tr>\n",
       "      <th>3</th>\n",
       "      <td>5.522518</td>\n",
       "      <td>5.373129</td>\n",
       "      <td>8.743263</td>\n",
       "      <td>2.686377</td>\n",
       "      <td>15.688428</td>\n",
       "    </tr>\n",
       "  </tbody>\n",
       "</table>\n",
       "</div>"
      ],
      "text/plain": [
       "             월 평균    월별 중간값      월 최대값     월 최소값       회원기간\n",
       "cluster                                                    \n",
       "0        8.054608  8.039598  10.009456  6.160757   7.809637\n",
       "1        4.676091  4.670264   7.231815  2.153477  37.819727\n",
       "2        3.049270  2.882740   4.745718  1.652174  10.147960\n",
       "3        5.522518  5.373129   8.743263  2.686377  15.688428"
      ]
     },
     "execution_count": 12,
     "metadata": {},
     "output_type": "execute_result"
    }
   ],
   "source": [
    "cc.groupby(\"cluster\").mean()"
   ]
  },
  {
   "cell_type": "markdown",
   "metadata": {},
   "source": [
    " - 그룹0 : 평균 회원기간이 7일로 가장 짧고 월평균 회수가 8회로 가장 높음\n",
    " - 그룹1,3 : 평균 회원기간이 다른구룹보다는 긺. 그룹 1은 그룹3 보다 회원유지 기간은 길지만 월평균 이용회수는 적음\n",
    " - 그룹2 : 평균 회원유지기간이 다른 그룹보다 짧음 평균 이용회수도 3회로 가장 낮음\n",
    "\n",
    " 그룹별 특징을 정의해서 프로모션할 때 사용 가능할수 있다."
   ]
  },
  {
   "cell_type": "markdown",
   "metadata": {},
   "source": [
    "#### 차원축소\n"
   ]
  },
  {
   "cell_type": "code",
   "execution_count": 13,
   "metadata": {},
   "outputs": [],
   "source": [
    "from sklearn.decomposition import PCA"
   ]
  },
  {
   "cell_type": "code",
   "execution_count": 14,
   "metadata": {},
   "outputs": [],
   "source": [
    "x = x_scaled.copy()"
   ]
  },
  {
   "cell_type": "code",
   "execution_count": 15,
   "metadata": {},
   "outputs": [
    {
     "data": {
      "text/plain": [
       "PCA(n_components=2)"
      ]
     },
     "execution_count": 15,
     "metadata": {},
     "output_type": "execute_result"
    }
   ],
   "source": [
    "pca = PCA(n_components=2)\n",
    "pca.fit(x)"
   ]
  },
  {
   "cell_type": "code",
   "execution_count": 16,
   "metadata": {},
   "outputs": [],
   "source": [
    "x_pca = pca.transform(x)"
   ]
  },
  {
   "cell_type": "code",
   "execution_count": 17,
   "metadata": {},
   "outputs": [
    {
     "data": {
      "text/plain": [
       "array([[-0.82348238, -1.95542865],\n",
       "       [-0.71143886, -1.79654608],\n",
       "       [-1.06487338, -1.65597187],\n",
       "       ...,\n",
       "       [ 3.03270969,  1.14925646],\n",
       "       [ 6.08668346,  0.58828694],\n",
       "       [ 5.06914574,  0.77750796]])"
      ]
     },
     "execution_count": 17,
     "metadata": {},
     "output_type": "execute_result"
    }
   ],
   "source": [
    "x_pca"
   ]
  },
  {
   "cell_type": "code",
   "execution_count": 18,
   "metadata": {},
   "outputs": [
    {
     "data": {
      "text/html": [
       "<div>\n",
       "<style scoped>\n",
       "    .dataframe tbody tr th:only-of-type {\n",
       "        vertical-align: middle;\n",
       "    }\n",
       "\n",
       "    .dataframe tbody tr th {\n",
       "        vertical-align: top;\n",
       "    }\n",
       "\n",
       "    .dataframe thead th {\n",
       "        text-align: right;\n",
       "    }\n",
       "</style>\n",
       "<table border=\"1\" class=\"dataframe\">\n",
       "  <thead>\n",
       "    <tr style=\"text-align: right;\">\n",
       "      <th></th>\n",
       "      <th>0</th>\n",
       "      <th>1</th>\n",
       "      <th>cluster</th>\n",
       "    </tr>\n",
       "  </thead>\n",
       "  <tbody>\n",
       "    <tr>\n",
       "      <th>0</th>\n",
       "      <td>-0.823482</td>\n",
       "      <td>-1.955429</td>\n",
       "      <td>1</td>\n",
       "    </tr>\n",
       "    <tr>\n",
       "      <th>1</th>\n",
       "      <td>-0.711439</td>\n",
       "      <td>-1.796546</td>\n",
       "      <td>1</td>\n",
       "    </tr>\n",
       "    <tr>\n",
       "      <th>2</th>\n",
       "      <td>-1.064873</td>\n",
       "      <td>-1.655972</td>\n",
       "      <td>1</td>\n",
       "    </tr>\n",
       "    <tr>\n",
       "      <th>3</th>\n",
       "      <td>-1.164117</td>\n",
       "      <td>-1.805864</td>\n",
       "      <td>1</td>\n",
       "    </tr>\n",
       "    <tr>\n",
       "      <th>4</th>\n",
       "      <td>-2.020158</td>\n",
       "      <td>-1.664221</td>\n",
       "      <td>1</td>\n",
       "    </tr>\n",
       "    <tr>\n",
       "      <th>...</th>\n",
       "      <td>...</td>\n",
       "      <td>...</td>\n",
       "      <td>...</td>\n",
       "    </tr>\n",
       "    <tr>\n",
       "      <th>4187</th>\n",
       "      <td>3.032710</td>\n",
       "      <td>1.149256</td>\n",
       "      <td>0</td>\n",
       "    </tr>\n",
       "    <tr>\n",
       "      <th>4188</th>\n",
       "      <td>5.068692</td>\n",
       "      <td>0.775277</td>\n",
       "      <td>0</td>\n",
       "    </tr>\n",
       "    <tr>\n",
       "      <th>4189</th>\n",
       "      <td>3.032710</td>\n",
       "      <td>1.149256</td>\n",
       "      <td>0</td>\n",
       "    </tr>\n",
       "    <tr>\n",
       "      <th>4190</th>\n",
       "      <td>6.086683</td>\n",
       "      <td>0.588287</td>\n",
       "      <td>0</td>\n",
       "    </tr>\n",
       "    <tr>\n",
       "      <th>4191</th>\n",
       "      <td>5.069146</td>\n",
       "      <td>0.777508</td>\n",
       "      <td>0</td>\n",
       "    </tr>\n",
       "  </tbody>\n",
       "</table>\n",
       "<p>4192 rows × 3 columns</p>\n",
       "</div>"
      ],
      "text/plain": [
       "             0         1  cluster\n",
       "0    -0.823482 -1.955429        1\n",
       "1    -0.711439 -1.796546        1\n",
       "2    -1.064873 -1.655972        1\n",
       "3    -1.164117 -1.805864        1\n",
       "4    -2.020158 -1.664221        1\n",
       "...        ...       ...      ...\n",
       "4187  3.032710  1.149256        0\n",
       "4188  5.068692  0.775277        0\n",
       "4189  3.032710  1.149256        0\n",
       "4190  6.086683  0.588287        0\n",
       "4191  5.069146  0.777508        0\n",
       "\n",
       "[4192 rows x 3 columns]"
      ]
     },
     "execution_count": 18,
     "metadata": {},
     "output_type": "execute_result"
    }
   ],
   "source": [
    "pca_x = pd.DataFrame(x_pca)\n",
    "pca_x[\"cluster\"] = cc[\"cluster\"]\n",
    "pca_x"
   ]
  },
  {
   "cell_type": "code",
   "execution_count": 19,
   "metadata": {},
   "outputs": [],
   "source": [
    "import matplotlib.pyplot as plt\n",
    "import seaborn as sns"
   ]
  },
  {
   "cell_type": "code",
   "execution_count": 20,
   "metadata": {},
   "outputs": [
    {
     "data": {
      "image/png": "[encoded data removed]",
      "text/plain": [
       "<Figure size 640x480 with 1 Axes>"
      ]
     },
     "metadata": {},
     "output_type": "display_data"
    }
   ],
   "source": [
    "axs = plt.subplots()\n",
    "axs = sns.scatterplot(data=pca_x,x=0,y=1,hue=\"cluster\")"
   ]
  },
  {
   "cell_type": "code",
   "execution_count": 21,
   "metadata": {},
   "outputs": [
    {
     "data": {
      "image/png": "[encoded data removed]",
      "text/plain": [
       "<Figure size 640x480 with 1 Axes>"
      ]
     },
     "metadata": {},
     "output_type": "display_data"
    }
   ],
   "source": [
    "for i in sorted(pca_x[\"cluster\"].unique()):\n",
    "    tmp = pca_x.loc[pca_x[\"cluster\"]==i]\n",
    "    plt.scatter(tmp[0], tmp[1])\n",
    "    plt.legend(sorted(pca_x[\"cluster\"].unique()))"
   ]
  },
  {
   "cell_type": "markdown",
   "metadata": {},
   "source": [
    "#### 탈퇴 비율 확인"
   ]
  },
  {
   "cell_type": "code",
   "execution_count": 22,
   "metadata": {},
   "outputs": [],
   "source": [
    "cc_join = pd.concat([cc,c], axis=1)"
   ]
  },
  {
   "cell_type": "code",
   "execution_count": 23,
   "metadata": {},
   "outputs": [
    {
     "data": {
      "text/html": [
       "<div>\n",
       "<style scoped>\n",
       "    .dataframe tbody tr th:only-of-type {\n",
       "        vertical-align: middle;\n",
       "    }\n",
       "\n",
       "    .dataframe tbody tr th {\n",
       "        vertical-align: top;\n",
       "    }\n",
       "\n",
       "    .dataframe thead th {\n",
       "        text-align: right;\n",
       "    }\n",
       "</style>\n",
       "<table border=\"1\" class=\"dataframe\">\n",
       "  <thead>\n",
       "    <tr style=\"text-align: right;\">\n",
       "      <th></th>\n",
       "      <th>cluster</th>\n",
       "      <th>is_deleted</th>\n",
       "      <th>customer_id</th>\n",
       "    </tr>\n",
       "  </thead>\n",
       "  <tbody>\n",
       "    <tr>\n",
       "      <th>0</th>\n",
       "      <td>0</td>\n",
       "      <td>0</td>\n",
       "      <td>827</td>\n",
       "    </tr>\n",
       "    <tr>\n",
       "      <th>1</th>\n",
       "      <td>0</td>\n",
       "      <td>1</td>\n",
       "      <td>19</td>\n",
       "    </tr>\n",
       "    <tr>\n",
       "      <th>2</th>\n",
       "      <td>1</td>\n",
       "      <td>0</td>\n",
       "      <td>1230</td>\n",
       "    </tr>\n",
       "    <tr>\n",
       "      <th>3</th>\n",
       "      <td>1</td>\n",
       "      <td>1</td>\n",
       "      <td>21</td>\n",
       "    </tr>\n",
       "    <tr>\n",
       "      <th>4</th>\n",
       "      <td>2</td>\n",
       "      <td>1</td>\n",
       "      <td>759</td>\n",
       "    </tr>\n",
       "  </tbody>\n",
       "</table>\n",
       "</div>"
      ],
      "text/plain": [
       "   cluster  is_deleted  customer_id\n",
       "0        0           0          827\n",
       "1        0           1           19\n",
       "2        1           0         1230\n",
       "3        1           1           21\n",
       "4        2           1          759"
      ]
     },
     "execution_count": 23,
     "metadata": {},
     "output_type": "execute_result"
    }
   ],
   "source": [
    "newdf = cc_join.groupby([\"cluster\", \"is_deleted\"],\n",
    "                        as_index=False).count()[[\"cluster\", \"is_deleted\", \"customer_id\"]]\n",
    "newdf.head()"
   ]
  },
  {
   "cell_type": "code",
   "execution_count": 24,
   "metadata": {},
   "outputs": [
    {
     "data": {
      "text/plain": [
       "759"
      ]
     },
     "execution_count": 24,
     "metadata": {},
     "output_type": "execute_result"
    }
   ],
   "source": [
    "len(cc_join[cc_join[\"cluster\"] == 2])"
   ]
  },
  {
   "cell_type": "code",
   "execution_count": 25,
   "metadata": {},
   "outputs": [],
   "source": [
    "d0 = (newdf[\"is_deleted\"] == 0) # 지속 회원\n",
    "d1 = (newdf[\"is_deleted\"] == 1) # 탈퇴 회원"
   ]
  },
  {
   "cell_type": "code",
   "execution_count": 26,
   "metadata": {},
   "outputs": [
    {
     "name": "stdout",
     "output_type": "stream",
     "text": [
      "cluster0의 탈퇴회원 비율은 2.25%\n",
      "cluster0의 유지회원 비율은 97.75%\n",
      "cluster1의 탈퇴회원 비율은 1.68%\n",
      "cluster1의 유지회원 비율은 98.32%\n",
      "cluster2의 탈퇴회원 비율은 100.0%\n",
      "cluster2의 유지회원 비율은 0.0%\n",
      "cluster3의 탈퇴회원 비율은 41.24%\n",
      "cluster3의 유지회원 비율은 58.76%\n"
     ]
    }
   ],
   "source": [
    "for i in range(0,4):\n",
    "    tmp = (newdf[\"cluster\"]==i)\n",
    "    print(\"cluster\" + str(i) + \"의 탈퇴회원 비율은 \" + \n",
    "        str(round(newdf.loc[(tmp&d1), \"customer_id\"].sum()* 100\n",
    "        / newdf.loc[tmp, \"customer_id\"].sum(), 2)) + \"%\")\n",
    "    print(\"cluster\" + str(i) + \"의 유지회원 비율은 \" + \n",
    "        str(round(newdf.loc[(tmp&d0), \"customer_id\"].sum()* 100\n",
    "        / newdf.loc[tmp, \"customer_id\"].sum(), 2)) + \"%\")"
   ]
  },
  {
   "cell_type": "markdown",
   "metadata": {},
   "source": [
    "- 클러스터 0,1: 유지회원 >탈퇴 회원\n",
    "- 클러스터 2 : 모두 탈퇴\n",
    "- 클러스터 3 : 유지회원과 탈퇴회원 비슷\n",
    "#\n",
    "- 클러스터0 : 회원기간 짧음, 월평균 이용 회수 높음\n",
    "- 클러스터2 : 회원기간 짧음, 월평균 이용 회수 낮음\n",
    "- 클러스터1,3 : 평균 회원 유지기간이 클러스터 0,2보다는 김\n",
    "- 클러스터 1은 클러스터 3보다 회원기간이 길지만 이용회수는 적은편"
   ]
  },
  {
   "cell_type": "markdown",
   "metadata": {},
   "source": [
    "#### 정리\n",
    "- 클러스터 0 : 초반에 열심히 이용(이용회수 많고 유지회원 많음 그러나 평균 회원기간이 짧아서 처음에만 열심히 이용)\n",
    "- 클러스터 1 : 안정적인 그룹 (회원유지기간이 길고, 이용회수는 적음, 유지회원은 많음)\n",
    "- 클러스터 2 : 탈퇴자 그룹 (짧게 이용후 탈퇴)\n",
    "- 클러스터 3 : 회원유지기간이 길고, 탈퇴회원과 지속회원이 비슷한 그룹"
   ]
  },
  {
   "cell_type": "markdown",
   "metadata": {},
   "source": [
    "#### 정기이용 여부 확인"
   ]
  },
  {
   "cell_type": "code",
   "execution_count": 27,
   "metadata": {},
   "outputs": [
    {
     "data": {
      "text/html": [
       "<div>\n",
       "<style scoped>\n",
       "    .dataframe tbody tr th:only-of-type {\n",
       "        vertical-align: middle;\n",
       "    }\n",
       "\n",
       "    .dataframe tbody tr th {\n",
       "        vertical-align: top;\n",
       "    }\n",
       "\n",
       "    .dataframe thead th {\n",
       "        text-align: right;\n",
       "    }\n",
       "</style>\n",
       "<table border=\"1\" class=\"dataframe\">\n",
       "  <thead>\n",
       "    <tr style=\"text-align: right;\">\n",
       "      <th></th>\n",
       "      <th>cluster</th>\n",
       "      <th>flag1</th>\n",
       "      <th>customer_id</th>\n",
       "    </tr>\n",
       "  </thead>\n",
       "  <tbody>\n",
       "    <tr>\n",
       "      <th>0</th>\n",
       "      <td>0</td>\n",
       "      <td>0</td>\n",
       "      <td>52</td>\n",
       "    </tr>\n",
       "    <tr>\n",
       "      <th>1</th>\n",
       "      <td>0</td>\n",
       "      <td>1</td>\n",
       "      <td>794</td>\n",
       "    </tr>\n",
       "    <tr>\n",
       "      <th>2</th>\n",
       "      <td>1</td>\n",
       "      <td>0</td>\n",
       "      <td>2</td>\n",
       "    </tr>\n",
       "    <tr>\n",
       "      <th>3</th>\n",
       "      <td>1</td>\n",
       "      <td>1</td>\n",
       "      <td>1249</td>\n",
       "    </tr>\n",
       "    <tr>\n",
       "      <th>4</th>\n",
       "      <td>2</td>\n",
       "      <td>0</td>\n",
       "      <td>496</td>\n",
       "    </tr>\n",
       "    <tr>\n",
       "      <th>5</th>\n",
       "      <td>2</td>\n",
       "      <td>1</td>\n",
       "      <td>263</td>\n",
       "    </tr>\n",
       "    <tr>\n",
       "      <th>6</th>\n",
       "      <td>3</td>\n",
       "      <td>0</td>\n",
       "      <td>229</td>\n",
       "    </tr>\n",
       "    <tr>\n",
       "      <th>7</th>\n",
       "      <td>3</td>\n",
       "      <td>1</td>\n",
       "      <td>1107</td>\n",
       "    </tr>\n",
       "  </tbody>\n",
       "</table>\n",
       "</div>"
      ],
      "text/plain": [
       "   cluster  flag1  customer_id\n",
       "0        0      0           52\n",
       "1        0      1          794\n",
       "2        1      0            2\n",
       "3        1      1         1249\n",
       "4        2      0          496\n",
       "5        2      1          263\n",
       "6        3      0          229\n",
       "7        3      1         1107"
      ]
     },
     "execution_count": 27,
     "metadata": {},
     "output_type": "execute_result"
    }
   ],
   "source": [
    "newdf2 = cc_join.groupby([\"cluster\", \"flag1\"],\n",
    "                         as_index=False).count()[[\"cluster\",\"flag1\",\"customer_id\"]]\n",
    "newdf2"
   ]
  },
  {
   "cell_type": "code",
   "execution_count": 28,
   "metadata": {},
   "outputs": [],
   "source": [
    "flag0 = (newdf2[\"flag1\"] == 0) # 비정기 사용 회원\n",
    "flag1 = (newdf2[\"flag1\"] == 1) # 주기적 사용 회원"
   ]
  },
  {
   "cell_type": "code",
   "execution_count": 37,
   "metadata": {},
   "outputs": [
    {
     "name": "stdout",
     "output_type": "stream",
     "text": [
      "cluster0의 정기회원 비율은 93.85%\n",
      "cluster0의 비정기회원 비율은 6.15%\n",
      "cluster1의 정기회원 비율은 99.84%\n",
      "cluster1의 비정기회원 비율은 0.16%\n",
      "cluster2의 정기회원 비율은 34.65%\n",
      "cluster2의 비정기회원 비율은 65.35%\n",
      "cluster3의 정기회원 비율은 82.86%\n",
      "cluster3의 비정기회원 비율은 17.14%\n"
     ]
    }
   ],
   "source": [
    "for i in range(0,4):\n",
    "    tmp = (newdf2[\"cluster\"]==i)\n",
    "    print(\"cluster\" + str(i) + \"의 정기회원 비율은 \" + \n",
    "          str(round(newdf2.loc[(tmp&flag1), \"customer_id\"].sum()* 100\n",
    "          / newdf2.loc[tmp, \"customer_id\"].sum(), 2)) + \"%\")\n",
    "    print(\"cluster\" + str(i) + \"의 비정기회원 비율은 \" + \n",
    "          str(round(newdf2.loc[(tmp&flag0), \"customer_id\"].sum()* 100\n",
    "          / newdf2.loc[tmp, \"customer_id\"].sum(), 2)) + \"%\")"
   ]
  },
  {
   "cell_type": "markdown",
   "metadata": {},
   "source": [
    "- 클러스터 0 : 초반에 불타오르는 그룹 (정기 94%, 비정기 6%)\n",
    "- 클러스터 1 : 안정적인 그룹 (정기99%, 비정기 0.1%)\n",
    "- 클러스터 2 : 가장 이용이 적은 그룹 (정기 35%, 비정기 65%)\n",
    "- 클러스터 3 : 유지, 탈퇴 비율이 비슷한 그룹 (정기 83%, 비정기 17%)"
   ]
  },
  {
   "cell_type": "code",
   "execution_count": null,
   "metadata": {},
   "outputs": [],
   "source": []
  }
 ],
 "metadata": {
  "kernelspec": {
   "display_name": "Python 3.9.13 ('base')",
   "language": "python",
   "name": "python3"
  },
  "language_info": {
   "codemirror_mode": {
    "name": "ipython",
    "version": 3
   },
   "file_extension": ".py",
   "mimetype": "text/x-python",
   "name": "python",
   "nbconvert_exporter": "python",
   "pygments_lexer": "ipython3",
   "version": "3.9.13"
  },
  "orig_nbformat": 4,
  "vscode": {
   "interpreter": {
    "hash": "a077222d77dfe082b8f1dd562ad70e458ac2ab76993a0b248ab0476e32e9e8dd"
   }
  }
 },
 "nbformat": 4,
 "nbformat_minor": 2
}

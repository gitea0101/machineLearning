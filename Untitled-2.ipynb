{
 "cells": [
  {
   "cell_type": "code",
   "execution_count": 51,
   "metadata": {},
   "outputs": [],
   "source": [
    "import pandas as pd\n",
    "import numpy as np\n",
    "import matplotlib.pyplot as plt\n",
    "import seaborn as sns\n",
    "\n",
    "from sklearn.linear_model import LogisticRegression\n",
    "from sklearn.neighbors import KNeighborsClassifier\n",
    "from sklearn.tree import DecisionTreeClassifier\n",
    "from sklearn.ensemble import RandomForestClassifier\n",
    "from sklearn.ensemble import GradientBoostingClassifier\n",
    "import xgboost as xgb\n",
    "from lightgbm import LGBMClassifier\n",
    "from sklearn.model_selection import train_test_split\n",
    "from sklearn.metrics import r2_score\n"
   ]
  },
  {
   "cell_type": "code",
   "execution_count": 52,
   "metadata": {},
   "outputs": [
    {
     "data": {
      "text/plain": [
       "Index(['Area', 'Perimeter', 'Major_Axis', 'Minor_Axis', 'Eccentricity',\n",
       "       'Eqdiasq', 'Solidity', 'Convex_Area', 'Extent', 'Aspect_Ratio',\n",
       "       'Roundness', 'Compactness', 'Shapefactor_1', 'Shapefactor_2',\n",
       "       'Shapefactor_3', 'Shapefactor_4', 'Mean_RR', 'Mean_RG', 'Mean_RB',\n",
       "       'StdDev_RR', 'StdDev_RG', 'StdDev_RB', 'Skew_RR', 'Skew_RG', 'Skew_RB',\n",
       "       'Kurtosis_RR', 'Kurtosis_RG', 'Kurtosis_RB', 'Class'],\n",
       "      dtype='object')"
      ]
     },
     "execution_count": 52,
     "metadata": {},
     "output_type": "execute_result"
    }
   ],
   "source": [
    "df = pd.read_excel(\"Pistachio_28_Features_Dataset.xlsx\")\n",
    "df.columns"
   ]
  },
  {
   "cell_type": "code",
   "execution_count": 53,
   "metadata": {},
   "outputs": [],
   "source": [
    "df = df[['Area', 'Perimeter', 'Major_Axis', 'Minor_Axis', 'Eccentricity',\n",
    "       'Eqdiasq', 'Solidity', 'Convex_Area', 'Extent', 'Aspect_Ratio',\n",
    "       'Roundness', 'Compactness', 'Class']]"
   ]
  },
  {
   "cell_type": "code",
   "execution_count": 54,
   "metadata": {},
   "outputs": [
    {
     "data": {
      "text/html": [
       "<div>\n",
       "<style scoped>\n",
       "    .dataframe tbody tr th:only-of-type {\n",
       "        vertical-align: middle;\n",
       "    }\n",
       "\n",
       "    .dataframe tbody tr th {\n",
       "        vertical-align: top;\n",
       "    }\n",
       "\n",
       "    .dataframe thead th {\n",
       "        text-align: right;\n",
       "    }\n",
       "</style>\n",
       "<table border=\"1\" class=\"dataframe\">\n",
       "  <thead>\n",
       "    <tr style=\"text-align: right;\">\n",
       "      <th></th>\n",
       "      <th>Area</th>\n",
       "      <th>Perimeter</th>\n",
       "      <th>Major_Axis</th>\n",
       "      <th>Minor_Axis</th>\n",
       "      <th>Eccentricity</th>\n",
       "      <th>Eqdiasq</th>\n",
       "      <th>Solidity</th>\n",
       "      <th>Convex_Area</th>\n",
       "      <th>Extent</th>\n",
       "      <th>Aspect_Ratio</th>\n",
       "      <th>Roundness</th>\n",
       "      <th>Compactness</th>\n",
       "      <th>Class</th>\n",
       "    </tr>\n",
       "  </thead>\n",
       "  <tbody>\n",
       "    <tr>\n",
       "      <th>0</th>\n",
       "      <td>63391</td>\n",
       "      <td>1568.405</td>\n",
       "      <td>390.3396</td>\n",
       "      <td>236.7461</td>\n",
       "      <td>0.7951</td>\n",
       "      <td>284.0984</td>\n",
       "      <td>0.8665</td>\n",
       "      <td>73160</td>\n",
       "      <td>0.6394</td>\n",
       "      <td>1.6488</td>\n",
       "      <td>0.3238</td>\n",
       "      <td>0.7278</td>\n",
       "      <td>Kirmizi_Pistachio</td>\n",
       "    </tr>\n",
       "    <tr>\n",
       "      <th>1</th>\n",
       "      <td>68358</td>\n",
       "      <td>1942.187</td>\n",
       "      <td>410.8594</td>\n",
       "      <td>234.7525</td>\n",
       "      <td>0.8207</td>\n",
       "      <td>295.0188</td>\n",
       "      <td>0.8765</td>\n",
       "      <td>77991</td>\n",
       "      <td>0.6772</td>\n",
       "      <td>1.7502</td>\n",
       "      <td>0.2277</td>\n",
       "      <td>0.7181</td>\n",
       "      <td>Kirmizi_Pistachio</td>\n",
       "    </tr>\n",
       "    <tr>\n",
       "      <th>2</th>\n",
       "      <td>73589</td>\n",
       "      <td>1246.538</td>\n",
       "      <td>452.3630</td>\n",
       "      <td>220.5547</td>\n",
       "      <td>0.8731</td>\n",
       "      <td>306.0987</td>\n",
       "      <td>0.9172</td>\n",
       "      <td>80234</td>\n",
       "      <td>0.7127</td>\n",
       "      <td>2.0510</td>\n",
       "      <td>0.5951</td>\n",
       "      <td>0.6767</td>\n",
       "      <td>Kirmizi_Pistachio</td>\n",
       "    </tr>\n",
       "    <tr>\n",
       "      <th>3</th>\n",
       "      <td>71106</td>\n",
       "      <td>1445.261</td>\n",
       "      <td>429.5291</td>\n",
       "      <td>216.0765</td>\n",
       "      <td>0.8643</td>\n",
       "      <td>300.8903</td>\n",
       "      <td>0.9589</td>\n",
       "      <td>74153</td>\n",
       "      <td>0.7028</td>\n",
       "      <td>1.9879</td>\n",
       "      <td>0.4278</td>\n",
       "      <td>0.7005</td>\n",
       "      <td>Kirmizi_Pistachio</td>\n",
       "    </tr>\n",
       "    <tr>\n",
       "      <th>4</th>\n",
       "      <td>80087</td>\n",
       "      <td>1251.524</td>\n",
       "      <td>469.3783</td>\n",
       "      <td>220.9344</td>\n",
       "      <td>0.8823</td>\n",
       "      <td>319.3273</td>\n",
       "      <td>0.9657</td>\n",
       "      <td>82929</td>\n",
       "      <td>0.7459</td>\n",
       "      <td>2.1245</td>\n",
       "      <td>0.6425</td>\n",
       "      <td>0.6803</td>\n",
       "      <td>Kirmizi_Pistachio</td>\n",
       "    </tr>\n",
       "  </tbody>\n",
       "</table>\n",
       "</div>"
      ],
      "text/plain": [
       "    Area  Perimeter  Major_Axis  Minor_Axis  Eccentricity   Eqdiasq  Solidity  \\\n",
       "0  63391   1568.405    390.3396    236.7461        0.7951  284.0984    0.8665   \n",
       "1  68358   1942.187    410.8594    234.7525        0.8207  295.0188    0.8765   \n",
       "2  73589   1246.538    452.3630    220.5547        0.8731  306.0987    0.9172   \n",
       "3  71106   1445.261    429.5291    216.0765        0.8643  300.8903    0.9589   \n",
       "4  80087   1251.524    469.3783    220.9344        0.8823  319.3273    0.9657   \n",
       "\n",
       "   Convex_Area  Extent  Aspect_Ratio  Roundness  Compactness  \\\n",
       "0        73160  0.6394        1.6488     0.3238       0.7278   \n",
       "1        77991  0.6772        1.7502     0.2277       0.7181   \n",
       "2        80234  0.7127        2.0510     0.5951       0.6767   \n",
       "3        74153  0.7028        1.9879     0.4278       0.7005   \n",
       "4        82929  0.7459        2.1245     0.6425       0.6803   \n",
       "\n",
       "               Class  \n",
       "0  Kirmizi_Pistachio  \n",
       "1  Kirmizi_Pistachio  \n",
       "2  Kirmizi_Pistachio  \n",
       "3  Kirmizi_Pistachio  \n",
       "4  Kirmizi_Pistachio  "
      ]
     },
     "execution_count": 54,
     "metadata": {},
     "output_type": "execute_result"
    }
   ],
   "source": [
    "df.head()"
   ]
  },
  {
   "cell_type": "code",
   "execution_count": 55,
   "metadata": {},
   "outputs": [],
   "source": [
    "def encode(series):\n",
    "    dic = dict(zip(series.unique(),range(len(series.unique()))))\n",
    "    result = series.apply(lambda x : dic[x])\n",
    "    return result\n",
    "\n",
    "df[\"Class\"].unique()\n",
    "\n",
    "df[\"Class\"] = encode(df[\"Class\"])"
   ]
  },
  {
   "cell_type": "code",
   "execution_count": 56,
   "metadata": {},
   "outputs": [
    {
     "data": {
      "text/plain": [
       "Class           1.000000\n",
       "Minor_Axis      0.668126\n",
       "Compactness     0.624939\n",
       "Area            0.589226\n",
       "Convex_Area     0.584618\n",
       "Eqdiasq         0.577300\n",
       "Perimeter       0.145290\n",
       "Major_Axis      0.136845\n",
       "Solidity        0.125347\n",
       "Roundness       0.105768\n",
       "Extent          0.100200\n",
       "Eccentricity   -0.546759\n",
       "Aspect_Ratio   -0.581469\n",
       "dtype: float64"
      ]
     },
     "execution_count": 56,
     "metadata": {},
     "output_type": "execute_result"
    }
   ],
   "source": [
    "df.corrwith(df[\"Class\"]).sort_values(ascending =False)"
   ]
  },
  {
   "cell_type": "code",
   "execution_count": 57,
   "metadata": {},
   "outputs": [
    {
     "data": {
      "text/html": [
       "<div>\n",
       "<style scoped>\n",
       "    .dataframe tbody tr th:only-of-type {\n",
       "        vertical-align: middle;\n",
       "    }\n",
       "\n",
       "    .dataframe tbody tr th {\n",
       "        vertical-align: top;\n",
       "    }\n",
       "\n",
       "    .dataframe thead th {\n",
       "        text-align: right;\n",
       "    }\n",
       "</style>\n",
       "<table border=\"1\" class=\"dataframe\">\n",
       "  <thead>\n",
       "    <tr style=\"text-align: right;\">\n",
       "      <th></th>\n",
       "      <th>Area</th>\n",
       "      <th>Perimeter</th>\n",
       "      <th>Major_Axis</th>\n",
       "      <th>Minor_Axis</th>\n",
       "      <th>Eccentricity</th>\n",
       "      <th>Eqdiasq</th>\n",
       "      <th>Solidity</th>\n",
       "      <th>Convex_Area</th>\n",
       "      <th>Extent</th>\n",
       "      <th>Aspect_Ratio</th>\n",
       "      <th>Roundness</th>\n",
       "      <th>Compactness</th>\n",
       "      <th>Class</th>\n",
       "    </tr>\n",
       "  </thead>\n",
       "  <tbody>\n",
       "    <tr>\n",
       "      <th>Area</th>\n",
       "      <td>1.000000</td>\n",
       "      <td>0.115941</td>\n",
       "      <td>0.697782</td>\n",
       "      <td>0.795881</td>\n",
       "      <td>-0.358892</td>\n",
       "      <td>0.997399</td>\n",
       "      <td>0.363959</td>\n",
       "      <td>0.943877</td>\n",
       "      <td>0.331784</td>\n",
       "      <td>-0.424025</td>\n",
       "      <td>0.250423</td>\n",
       "      <td>0.551711</td>\n",
       "      <td>0.589226</td>\n",
       "    </tr>\n",
       "    <tr>\n",
       "      <th>Perimeter</th>\n",
       "      <td>0.115941</td>\n",
       "      <td>1.000000</td>\n",
       "      <td>0.094296</td>\n",
       "      <td>0.390740</td>\n",
       "      <td>-0.334483</td>\n",
       "      <td>0.113631</td>\n",
       "      <td>-0.671046</td>\n",
       "      <td>0.364474</td>\n",
       "      <td>-0.403916</td>\n",
       "      <td>-0.312373</td>\n",
       "      <td>-0.891777</td>\n",
       "      <td>0.044624</td>\n",
       "      <td>0.145290</td>\n",
       "    </tr>\n",
       "    <tr>\n",
       "      <th>Major_Axis</th>\n",
       "      <td>0.697782</td>\n",
       "      <td>0.094296</td>\n",
       "      <td>1.000000</td>\n",
       "      <td>0.272578</td>\n",
       "      <td>0.298836</td>\n",
       "      <td>0.705333</td>\n",
       "      <td>0.247822</td>\n",
       "      <td>0.661892</td>\n",
       "      <td>0.186830</td>\n",
       "      <td>0.265049</td>\n",
       "      <td>0.153592</td>\n",
       "      <td>-0.201121</td>\n",
       "      <td>0.136845</td>\n",
       "    </tr>\n",
       "    <tr>\n",
       "      <th>Minor_Axis</th>\n",
       "      <td>0.795881</td>\n",
       "      <td>0.390740</td>\n",
       "      <td>0.272578</td>\n",
       "      <td>1.000000</td>\n",
       "      <td>-0.816731</td>\n",
       "      <td>0.793155</td>\n",
       "      <td>-0.085556</td>\n",
       "      <td>0.890003</td>\n",
       "      <td>0.047442</td>\n",
       "      <td>-0.839078</td>\n",
       "      <td>-0.066594</td>\n",
       "      <td>0.773512</td>\n",
       "      <td>0.668126</td>\n",
       "    </tr>\n",
       "    <tr>\n",
       "      <th>Eccentricity</th>\n",
       "      <td>-0.358892</td>\n",
       "      <td>-0.334483</td>\n",
       "      <td>0.298836</td>\n",
       "      <td>-0.816731</td>\n",
       "      <td>1.000000</td>\n",
       "      <td>-0.352723</td>\n",
       "      <td>0.257060</td>\n",
       "      <td>-0.482713</td>\n",
       "      <td>0.080967</td>\n",
       "      <td>0.943751</td>\n",
       "      <td>0.171669</td>\n",
       "      <td>-0.846851</td>\n",
       "      <td>-0.546759</td>\n",
       "    </tr>\n",
       "    <tr>\n",
       "      <th>Eqdiasq</th>\n",
       "      <td>0.997399</td>\n",
       "      <td>0.113631</td>\n",
       "      <td>0.705333</td>\n",
       "      <td>0.793155</td>\n",
       "      <td>-0.352723</td>\n",
       "      <td>1.000000</td>\n",
       "      <td>0.372779</td>\n",
       "      <td>0.940651</td>\n",
       "      <td>0.340073</td>\n",
       "      <td>-0.423318</td>\n",
       "      <td>0.254242</td>\n",
       "      <td>0.549971</td>\n",
       "      <td>0.577300</td>\n",
       "    </tr>\n",
       "    <tr>\n",
       "      <th>Solidity</th>\n",
       "      <td>0.363959</td>\n",
       "      <td>-0.671046</td>\n",
       "      <td>0.247822</td>\n",
       "      <td>-0.085556</td>\n",
       "      <td>0.257060</td>\n",
       "      <td>0.372779</td>\n",
       "      <td>1.000000</td>\n",
       "      <td>0.042000</td>\n",
       "      <td>0.678599</td>\n",
       "      <td>0.177830</td>\n",
       "      <td>0.779134</td>\n",
       "      <td>0.226165</td>\n",
       "      <td>0.125347</td>\n",
       "    </tr>\n",
       "    <tr>\n",
       "      <th>Convex_Area</th>\n",
       "      <td>0.943877</td>\n",
       "      <td>0.364474</td>\n",
       "      <td>0.661892</td>\n",
       "      <td>0.890003</td>\n",
       "      <td>-0.482713</td>\n",
       "      <td>0.940651</td>\n",
       "      <td>0.042000</td>\n",
       "      <td>1.000000</td>\n",
       "      <td>0.122881</td>\n",
       "      <td>-0.522637</td>\n",
       "      <td>-0.007125</td>\n",
       "      <td>0.515907</td>\n",
       "      <td>0.584618</td>\n",
       "    </tr>\n",
       "    <tr>\n",
       "      <th>Extent</th>\n",
       "      <td>0.331784</td>\n",
       "      <td>-0.403916</td>\n",
       "      <td>0.186830</td>\n",
       "      <td>0.047442</td>\n",
       "      <td>0.080967</td>\n",
       "      <td>0.340073</td>\n",
       "      <td>0.678599</td>\n",
       "      <td>0.122881</td>\n",
       "      <td>1.000000</td>\n",
       "      <td>0.023303</td>\n",
       "      <td>0.512278</td>\n",
       "      <td>0.254064</td>\n",
       "      <td>0.100200</td>\n",
       "    </tr>\n",
       "    <tr>\n",
       "      <th>Aspect_Ratio</th>\n",
       "      <td>-0.424025</td>\n",
       "      <td>-0.312373</td>\n",
       "      <td>0.265049</td>\n",
       "      <td>-0.839078</td>\n",
       "      <td>0.943751</td>\n",
       "      <td>-0.423318</td>\n",
       "      <td>0.177830</td>\n",
       "      <td>-0.522637</td>\n",
       "      <td>0.023303</td>\n",
       "      <td>1.000000</td>\n",
       "      <td>0.115896</td>\n",
       "      <td>-0.896857</td>\n",
       "      <td>-0.581469</td>\n",
       "    </tr>\n",
       "    <tr>\n",
       "      <th>Roundness</th>\n",
       "      <td>0.250423</td>\n",
       "      <td>-0.891777</td>\n",
       "      <td>0.153592</td>\n",
       "      <td>-0.066594</td>\n",
       "      <td>0.171669</td>\n",
       "      <td>0.254242</td>\n",
       "      <td>0.779134</td>\n",
       "      <td>-0.007125</td>\n",
       "      <td>0.512278</td>\n",
       "      <td>0.115896</td>\n",
       "      <td>1.000000</td>\n",
       "      <td>0.171226</td>\n",
       "      <td>0.105768</td>\n",
       "    </tr>\n",
       "    <tr>\n",
       "      <th>Compactness</th>\n",
       "      <td>0.551711</td>\n",
       "      <td>0.044624</td>\n",
       "      <td>-0.201121</td>\n",
       "      <td>0.773512</td>\n",
       "      <td>-0.846851</td>\n",
       "      <td>0.549971</td>\n",
       "      <td>0.226165</td>\n",
       "      <td>0.515907</td>\n",
       "      <td>0.254064</td>\n",
       "      <td>-0.896857</td>\n",
       "      <td>0.171226</td>\n",
       "      <td>1.000000</td>\n",
       "      <td>0.624939</td>\n",
       "    </tr>\n",
       "    <tr>\n",
       "      <th>Class</th>\n",
       "      <td>0.589226</td>\n",
       "      <td>0.145290</td>\n",
       "      <td>0.136845</td>\n",
       "      <td>0.668126</td>\n",
       "      <td>-0.546759</td>\n",
       "      <td>0.577300</td>\n",
       "      <td>0.125347</td>\n",
       "      <td>0.584618</td>\n",
       "      <td>0.100200</td>\n",
       "      <td>-0.581469</td>\n",
       "      <td>0.105768</td>\n",
       "      <td>0.624939</td>\n",
       "      <td>1.000000</td>\n",
       "    </tr>\n",
       "  </tbody>\n",
       "</table>\n",
       "</div>"
      ],
      "text/plain": [
       "                  Area  Perimeter  Major_Axis  Minor_Axis  Eccentricity  \\\n",
       "Area          1.000000   0.115941    0.697782    0.795881     -0.358892   \n",
       "Perimeter     0.115941   1.000000    0.094296    0.390740     -0.334483   \n",
       "Major_Axis    0.697782   0.094296    1.000000    0.272578      0.298836   \n",
       "Minor_Axis    0.795881   0.390740    0.272578    1.000000     -0.816731   \n",
       "Eccentricity -0.358892  -0.334483    0.298836   -0.816731      1.000000   \n",
       "Eqdiasq       0.997399   0.113631    0.705333    0.793155     -0.352723   \n",
       "Solidity      0.363959  -0.671046    0.247822   -0.085556      0.257060   \n",
       "Convex_Area   0.943877   0.364474    0.661892    0.890003     -0.482713   \n",
       "Extent        0.331784  -0.403916    0.186830    0.047442      0.080967   \n",
       "Aspect_Ratio -0.424025  -0.312373    0.265049   -0.839078      0.943751   \n",
       "Roundness     0.250423  -0.891777    0.153592   -0.066594      0.171669   \n",
       "Compactness   0.551711   0.044624   -0.201121    0.773512     -0.846851   \n",
       "Class         0.589226   0.145290    0.136845    0.668126     -0.546759   \n",
       "\n",
       "               Eqdiasq  Solidity  Convex_Area    Extent  Aspect_Ratio  \\\n",
       "Area          0.997399  0.363959     0.943877  0.331784     -0.424025   \n",
       "Perimeter     0.113631 -0.671046     0.364474 -0.403916     -0.312373   \n",
       "Major_Axis    0.705333  0.247822     0.661892  0.186830      0.265049   \n",
       "Minor_Axis    0.793155 -0.085556     0.890003  0.047442     -0.839078   \n",
       "Eccentricity -0.352723  0.257060    -0.482713  0.080967      0.943751   \n",
       "Eqdiasq       1.000000  0.372779     0.940651  0.340073     -0.423318   \n",
       "Solidity      0.372779  1.000000     0.042000  0.678599      0.177830   \n",
       "Convex_Area   0.940651  0.042000     1.000000  0.122881     -0.522637   \n",
       "Extent        0.340073  0.678599     0.122881  1.000000      0.023303   \n",
       "Aspect_Ratio -0.423318  0.177830    -0.522637  0.023303      1.000000   \n",
       "Roundness     0.254242  0.779134    -0.007125  0.512278      0.115896   \n",
       "Compactness   0.549971  0.226165     0.515907  0.254064     -0.896857   \n",
       "Class         0.577300  0.125347     0.584618  0.100200     -0.581469   \n",
       "\n",
       "              Roundness  Compactness     Class  \n",
       "Area           0.250423     0.551711  0.589226  \n",
       "Perimeter     -0.891777     0.044624  0.145290  \n",
       "Major_Axis     0.153592    -0.201121  0.136845  \n",
       "Minor_Axis    -0.066594     0.773512  0.668126  \n",
       "Eccentricity   0.171669    -0.846851 -0.546759  \n",
       "Eqdiasq        0.254242     0.549971  0.577300  \n",
       "Solidity       0.779134     0.226165  0.125347  \n",
       "Convex_Area   -0.007125     0.515907  0.584618  \n",
       "Extent         0.512278     0.254064  0.100200  \n",
       "Aspect_Ratio   0.115896    -0.896857 -0.581469  \n",
       "Roundness      1.000000     0.171226  0.105768  \n",
       "Compactness    0.171226     1.000000  0.624939  \n",
       "Class          0.105768     0.624939  1.000000  "
      ]
     },
     "execution_count": 57,
     "metadata": {},
     "output_type": "execute_result"
    }
   ],
   "source": [
    "df.corr()"
   ]
  },
  {
   "cell_type": "code",
   "execution_count": 58,
   "metadata": {},
   "outputs": [
    {
     "data": {
      "image/png": "[encoded data removed]",
      "text/plain": [
       "<Figure size 720x720 with 2 Axes>"
      ]
     },
     "metadata": {
      "needs_background": "light"
     },
     "output_type": "display_data"
    }
   ],
   "source": [
    "plt.figure(figsize=(10,10))\n",
    "plt.pcolor(df.corr())\n",
    "plt.xticks(np.arange(0.5,len(df.corr().columns), 1), df.corr().columns)\n",
    "plt.yticks(np.arange(0.5,len(df.corr().index), 1), df.corr().columns)\n",
    "plt.colorbar()\n",
    "plt.show()"
   ]
  },
  {
   "cell_type": "code",
   "execution_count": 59,
   "metadata": {},
   "outputs": [
    {
     "data": {
      "text/plain": [
       "<AxesSubplot:>"
      ]
     },
     "execution_count": 59,
     "metadata": {},
     "output_type": "execute_result"
    },
    {
     "data": {
      "image/png": "[encoded data removed]",
      "text/plain": [
       "<Figure size 432x288 with 2 Axes>"
      ]
     },
     "metadata": {
      "needs_background": "light"
     },
     "output_type": "display_data"
    }
   ],
   "source": [
    "sns.heatmap(df.corr())"
   ]
  },
  {
   "cell_type": "code",
   "execution_count": 60,
   "metadata": {},
   "outputs": [],
   "source": [
    "df = df[['Minor_Axis', 'Solidity', 'Extent', \n",
    "       'Roundness', 'Compactness', 'Class']]"
   ]
  },
  {
   "cell_type": "code",
   "execution_count": 61,
   "metadata": {},
   "outputs": [
    {
     "data": {
      "text/plain": [
       "<AxesSubplot:>"
      ]
     },
     "execution_count": 61,
     "metadata": {},
     "output_type": "execute_result"
    },
    {
     "data": {
      "image/png": "[encoded data removed]",
      "text/plain": [
       "<Figure size 432x288 with 2 Axes>"
      ]
     },
     "metadata": {
      "needs_background": "light"
     },
     "output_type": "display_data"
    }
   ],
   "source": [
    "sns.heatmap(df.corr(), annot = True)"
   ]
  },
  {
   "cell_type": "code",
   "execution_count": 62,
   "metadata": {},
   "outputs": [
    {
     "data": {
      "text/plain": [
       "LGBMClassifier()"
      ]
     },
     "execution_count": 62,
     "metadata": {},
     "output_type": "execute_result"
    }
   ],
   "source": [
    "X_train, X_test, y_train, y_test = train_test_split(df[['Minor_Axis', 'Solidity', 'Extent', 'Roundness', 'Compactness']], df[\"Class\"])\n",
    "\n",
    "model1 = LogisticRegression()\n",
    "model2 = KNeighborsClassifier()\n",
    "model3 = DecisionTreeClassifier()\n",
    "model4 = RandomForestClassifier()\n",
    "model5 = GradientBoostingClassifier()\n",
    "model6 = xgb.XGBClassifier()\n",
    "model7 = LGBMClassifier()\n",
    "\n",
    "model1.fit(X_train,  y_train)\n",
    "model2.fit(X_train,  y_train)\n",
    "model3.fit(X_train,  y_train)\n",
    "model4.fit(X_train,  y_train)\n",
    "model5.fit(X_train,  y_train)\n",
    "model6.fit(X_train,  y_train)\n",
    "model7.fit(X_train,  y_train)\n"
   ]
  },
  {
   "cell_type": "code",
   "execution_count": 63,
   "metadata": {},
   "outputs": [],
   "source": [
    "predict1 = model1.predict(X_train)\n",
    "predict2 = model2.predict(X_train)\n",
    "predict3 = model3.predict(X_train)\n",
    "predict4 = model4.predict(X_train)\n",
    "predict5 = model5.predict(X_train)\n",
    "predict6 = model6.predict(X_train)\n",
    "predict7 = model7.predict(X_train)"
   ]
  },
  {
   "cell_type": "code",
   "execution_count": 64,
   "metadata": {},
   "outputs": [],
   "source": [
    "predict_avg = np.round(predict1+predict2+predict3+predict4+predict5+predict6+predict7)/7"
   ]
  },
  {
   "cell_type": "code",
   "execution_count": 65,
   "metadata": {},
   "outputs": [
    {
     "data": {
      "text/plain": [
       "0.8162631905648665"
      ]
     },
     "execution_count": 65,
     "metadata": {},
     "output_type": "execute_result"
    }
   ],
   "source": [
    "score = 0\n",
    "for a, i in enumerate(predict_avg):\n",
    "    if y_train.reset_index(drop =True)[a] == i:\n",
    "        score +=1\n",
    "    else:\n",
    "        pass\n",
    "score/len(y_train)"
   ]
  },
  {
   "cell_type": "code",
   "execution_count": 66,
   "metadata": {},
   "outputs": [
    {
     "data": {
      "text/plain": [
       "<BarContainer object of 8 artists>"
      ]
     },
     "execution_count": 66,
     "metadata": {},
     "output_type": "execute_result"
    },
    {
     "data": {
      "image/png": "[encoded data removed]",
      "text/plain": [
       "<Figure size 432x288 with 1 Axes>"
      ]
     },
     "metadata": {
      "needs_background": "light"
     },
     "output_type": "display_data"
    }
   ],
   "source": [
    "model_name =[\"LR\",\"KNN\",\"DT\",\"RF\",\"GB\",\"XGB\",\"LGBM\",\"VT\"]\n",
    "scores = [model1.score(X_train,y_train),model2.score(X_train,y_train),model3.score(X_train,y_train),model4.score(X_train,y_train),\n",
    "         model5.score(X_train,y_train),model6.score(X_train,y_train),model7.score(X_train,y_train), score/len(y_train)]\n",
    "plt.bar(model_name, scores)"
   ]
  },
  {
   "cell_type": "code",
   "execution_count": 67,
   "metadata": {},
   "outputs": [],
   "source": [
    "pred1 = model1.predict(X_test)\n",
    "pred2 = model2.predict(X_test)\n",
    "pred3 = model3.predict(X_test)\n",
    "pred4 = model4.predict(X_test)\n",
    "pred5 = model5.predict(X_test)\n",
    "pred6 = model6.predict(X_test)\n",
    "pred7 = model7.predict(X_test)"
   ]
  },
  {
   "cell_type": "code",
   "execution_count": 68,
   "metadata": {},
   "outputs": [],
   "source": [
    "pred_avg = np.round(pred1+pred2+pred3+pred4+pred5+pred6+pred7)/7"
   ]
  },
  {
   "cell_type": "code",
   "execution_count": 69,
   "metadata": {},
   "outputs": [
    {
     "data": {
      "text/plain": [
       "0.7150837988826816"
      ]
     },
     "execution_count": 69,
     "metadata": {},
     "output_type": "execute_result"
    }
   ],
   "source": [
    "scoret = 0\n",
    "for a, i in enumerate(pred_avg):\n",
    "    if y_test.reset_index(drop =True)[a] == i:\n",
    "        scoret +=1\n",
    "    else:\n",
    "        pass\n",
    "scoret/len(y_test)"
   ]
  },
  {
   "cell_type": "code",
   "execution_count": 70,
   "metadata": {},
   "outputs": [
    {
     "data": {
      "text/plain": [
       "<BarContainer object of 8 artists>"
      ]
     },
     "execution_count": 70,
     "metadata": {},
     "output_type": "execute_result"
    },
    {
     "data": {
      "image/png": "[encoded data removed]",
      "text/plain": [
       "<Figure size 432x288 with 1 Axes>"
      ]
     },
     "metadata": {
      "needs_background": "light"
     },
     "output_type": "display_data"
    }
   ],
   "source": [
    "scores2 = [model1.score(X_test,y_test),model2.score(X_test,y_test),model3.score(X_test,y_test),\n",
    "           model4.score(X_test,y_test),model5.score(X_test,y_test),model6.score(X_test,y_test),\n",
    "           model7.score(X_test,y_test),scoret/len(y_test)]\n",
    "plt.bar(model_name, scores2)"
   ]
  },
  {
   "cell_type": "code",
   "execution_count": 71,
   "metadata": {},
   "outputs": [
    {
     "data": {
      "text/plain": [
       "<BarContainer object of 8 artists>"
      ]
     },
     "execution_count": 71,
     "metadata": {},
     "output_type": "execute_result"
    },
    {
     "data": {
      "image/png": "[encoded data removed]",
      "text/plain": [
       "<Figure size 432x288 with 1 Axes>"
      ]
     },
     "metadata": {
      "needs_background": "light"
     },
     "output_type": "display_data"
    }
   ],
   "source": [
    "gap = []\n",
    "for a, i in enumerate(scores):\n",
    "    gap.append((i - scores2[a])**2)\n",
    "plt.bar(model_name, gap)\n"
   ]
  }
 ],
 "metadata": {
  "kernelspec": {
   "display_name": "Python 3.9.12 ('base')",
   "language": "python",
   "name": "python3"
  },
  "language_info": {
   "codemirror_mode": {
    "name": "ipython",
    "version": 3
   },
   "file_extension": ".py",
   "mimetype": "text/x-python",
   "name": "python",
   "nbconvert_exporter": "python",
   "pygments_lexer": "ipython3",
   "version": "3.9.12"
  },
  "orig_nbformat": 4,
  "vscode": {
   "interpreter": {
    "hash": "a077222d77dfe082b8f1dd562ad70e458ac2ab76993a0b248ab0476e32e9e8dd"
   }
  }
 },
 "nbformat": 4,
 "nbformat_minor": 2
}

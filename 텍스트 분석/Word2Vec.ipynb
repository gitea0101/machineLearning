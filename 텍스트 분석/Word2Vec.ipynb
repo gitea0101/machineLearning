{
 "cells": [
  {
   "cell_type": "code",
   "execution_count": 1,
   "metadata": {},
   "outputs": [],
   "source": [
    "import matplotlib.pyplot as plt\n",
    "plt.rcParams[\"font.family\"] = \"Malgun Gothic\"\n",
    "plt.rcParams[\"axes.unicode_minus\"] = False"
   ]
  },
  {
   "cell_type": "code",
   "execution_count": 2,
   "metadata": {},
   "outputs": [],
   "source": [
    "import numpy as np\n",
    "import pandas as pd\n",
    "import re\n",
    "from konlpy.tag import Okt\n",
    "from tqdm import tqdm"
   ]
  },
  {
   "cell_type": "code",
   "execution_count": 3,
   "metadata": {},
   "outputs": [
    {
     "data": {
      "text/html": [
       "<div>\n",
       "<style scoped>\n",
       "    .dataframe tbody tr th:only-of-type {\n",
       "        vertical-align: middle;\n",
       "    }\n",
       "\n",
       "    .dataframe tbody tr th {\n",
       "        vertical-align: top;\n",
       "    }\n",
       "\n",
       "    .dataframe thead th {\n",
       "        text-align: right;\n",
       "    }\n",
       "</style>\n",
       "<table border=\"1\" class=\"dataframe\">\n",
       "  <thead>\n",
       "    <tr style=\"text-align: right;\">\n",
       "      <th></th>\n",
       "      <th>id</th>\n",
       "      <th>document</th>\n",
       "      <th>label</th>\n",
       "    </tr>\n",
       "  </thead>\n",
       "  <tbody>\n",
       "    <tr>\n",
       "      <th>0</th>\n",
       "      <td>8112052</td>\n",
       "      <td>어릴때보고 지금다시봐도 재밌어요ㅋㅋ</td>\n",
       "      <td>1</td>\n",
       "    </tr>\n",
       "    <tr>\n",
       "      <th>1</th>\n",
       "      <td>8132799</td>\n",
       "      <td>디자인을 배우는 학생으로, 외국디자이너와 그들이 일군 전통을 통해 발전해가는 문화산...</td>\n",
       "      <td>1</td>\n",
       "    </tr>\n",
       "    <tr>\n",
       "      <th>2</th>\n",
       "      <td>4655635</td>\n",
       "      <td>폴리스스토리 시리즈는 1부터 뉴까지 버릴께 하나도 없음.. 최고.</td>\n",
       "      <td>1</td>\n",
       "    </tr>\n",
       "    <tr>\n",
       "      <th>3</th>\n",
       "      <td>9251303</td>\n",
       "      <td>와.. 연기가 진짜 개쩔구나.. 지루할거라고 생각했는데 몰입해서 봤다.. 그래 이런...</td>\n",
       "      <td>1</td>\n",
       "    </tr>\n",
       "    <tr>\n",
       "      <th>4</th>\n",
       "      <td>10067386</td>\n",
       "      <td>안개 자욱한 밤하늘에 떠 있는 초승달 같은 영화.</td>\n",
       "      <td>1</td>\n",
       "    </tr>\n",
       "  </tbody>\n",
       "</table>\n",
       "</div>"
      ],
      "text/plain": [
       "         id                                           document  label\n",
       "0   8112052                                어릴때보고 지금다시봐도 재밌어요ㅋㅋ      1\n",
       "1   8132799  디자인을 배우는 학생으로, 외국디자이너와 그들이 일군 전통을 통해 발전해가는 문화산...      1\n",
       "2   4655635               폴리스스토리 시리즈는 1부터 뉴까지 버릴께 하나도 없음.. 최고.      1\n",
       "3   9251303  와.. 연기가 진짜 개쩔구나.. 지루할거라고 생각했는데 몰입해서 봤다.. 그래 이런...      1\n",
       "4  10067386                        안개 자욱한 밤하늘에 떠 있는 초승달 같은 영화.      1"
      ]
     },
     "execution_count": 3,
     "metadata": {},
     "output_type": "execute_result"
    }
   ],
   "source": [
    "data = pd.read_table(\"C:\\\\temf\\\\ratings.txt\")\n",
    "data.head()"
   ]
  },
  {
   "cell_type": "code",
   "execution_count": 4,
   "metadata": {},
   "outputs": [
    {
     "data": {
      "text/plain": [
       "194543"
      ]
     },
     "execution_count": 4,
     "metadata": {},
     "output_type": "execute_result"
    }
   ],
   "source": [
    "data[\"document\"].nunique()"
   ]
  },
  {
   "cell_type": "code",
   "execution_count": 5,
   "metadata": {},
   "outputs": [],
   "source": [
    "# 중복 제거\n",
    "data.drop_duplicates(subset=[\"document\"], inplace=True)"
   ]
  },
  {
   "cell_type": "code",
   "execution_count": 6,
   "metadata": {},
   "outputs": [
    {
     "data": {
      "text/plain": [
       "194544"
      ]
     },
     "execution_count": 6,
     "metadata": {},
     "output_type": "execute_result"
    }
   ],
   "source": [
    "len(data)"
   ]
  },
  {
   "cell_type": "code",
   "execution_count": 7,
   "metadata": {},
   "outputs": [
    {
     "data": {
      "text/plain": [
       "<AxesSubplot:>"
      ]
     },
     "execution_count": 7,
     "metadata": {},
     "output_type": "execute_result"
    },
    {
     "data": {
      "image/png": "[encoded data removed]",
      "text/plain": [
       "<Figure size 640x480 with 1 Axes>"
      ]
     },
     "metadata": {},
     "output_type": "display_data"
    }
   ],
   "source": [
    "data[\"label\"].value_counts().plot(kind=\"bar\")"
   ]
  },
  {
   "cell_type": "code",
   "execution_count": 8,
   "metadata": {},
   "outputs": [
    {
     "data": {
      "text/html": [
       "<div>\n",
       "<style scoped>\n",
       "    .dataframe tbody tr th:only-of-type {\n",
       "        vertical-align: middle;\n",
       "    }\n",
       "\n",
       "    .dataframe tbody tr th {\n",
       "        vertical-align: top;\n",
       "    }\n",
       "\n",
       "    .dataframe thead th {\n",
       "        text-align: right;\n",
       "    }\n",
       "</style>\n",
       "<table border=\"1\" class=\"dataframe\">\n",
       "  <thead>\n",
       "    <tr style=\"text-align: right;\">\n",
       "      <th></th>\n",
       "      <th>label</th>\n",
       "      <th>count</th>\n",
       "    </tr>\n",
       "  </thead>\n",
       "  <tbody>\n",
       "    <tr>\n",
       "      <th>0</th>\n",
       "      <td>0</td>\n",
       "      <td>97277</td>\n",
       "    </tr>\n",
       "    <tr>\n",
       "      <th>1</th>\n",
       "      <td>1</td>\n",
       "      <td>97267</td>\n",
       "    </tr>\n",
       "  </tbody>\n",
       "</table>\n",
       "</div>"
      ],
      "text/plain": [
       "   label  count\n",
       "0      0  97277\n",
       "1      1  97267"
      ]
     },
     "execution_count": 8,
     "metadata": {},
     "output_type": "execute_result"
    }
   ],
   "source": [
    "data.groupby(\"label\").size().reset_index(name=\"count\")"
   ]
  },
  {
   "cell_type": "code",
   "execution_count": 9,
   "metadata": {},
   "outputs": [
    {
     "data": {
      "text/plain": [
       "True"
      ]
     },
     "execution_count": 9,
     "metadata": {},
     "output_type": "execute_result"
    }
   ],
   "source": [
    "data.isnull().values.any()"
   ]
  },
  {
   "cell_type": "code",
   "execution_count": 10,
   "metadata": {},
   "outputs": [
    {
     "data": {
      "text/plain": [
       "id          0\n",
       "document    1\n",
       "label       0\n",
       "dtype: int64"
      ]
     },
     "execution_count": 10,
     "metadata": {},
     "output_type": "execute_result"
    }
   ],
   "source": [
    "data.isnull().sum()"
   ]
  },
  {
   "cell_type": "code",
   "execution_count": 11,
   "metadata": {},
   "outputs": [
    {
     "data": {
      "text/html": [
       "<div>\n",
       "<style scoped>\n",
       "    .dataframe tbody tr th:only-of-type {\n",
       "        vertical-align: middle;\n",
       "    }\n",
       "\n",
       "    .dataframe tbody tr th {\n",
       "        vertical-align: top;\n",
       "    }\n",
       "\n",
       "    .dataframe thead th {\n",
       "        text-align: right;\n",
       "    }\n",
       "</style>\n",
       "<table border=\"1\" class=\"dataframe\">\n",
       "  <thead>\n",
       "    <tr style=\"text-align: right;\">\n",
       "      <th></th>\n",
       "      <th>id</th>\n",
       "      <th>document</th>\n",
       "      <th>label</th>\n",
       "    </tr>\n",
       "  </thead>\n",
       "  <tbody>\n",
       "    <tr>\n",
       "      <th>46471</th>\n",
       "      <td>6369843</td>\n",
       "      <td>NaN</td>\n",
       "      <td>1</td>\n",
       "    </tr>\n",
       "  </tbody>\n",
       "</table>\n",
       "</div>"
      ],
      "text/plain": [
       "            id document  label\n",
       "46471  6369843      NaN      1"
      ]
     },
     "execution_count": 11,
     "metadata": {},
     "output_type": "execute_result"
    }
   ],
   "source": [
    "data.loc[data.document.isnull()]"
   ]
  },
  {
   "cell_type": "code",
   "execution_count": 12,
   "metadata": {},
   "outputs": [],
   "source": [
    "data.dropna(inplace=True)"
   ]
  },
  {
   "cell_type": "code",
   "execution_count": 13,
   "metadata": {},
   "outputs": [
    {
     "data": {
      "text/plain": [
       "id          0\n",
       "document    0\n",
       "label       0\n",
       "dtype: int64"
      ]
     },
     "execution_count": 13,
     "metadata": {},
     "output_type": "execute_result"
    }
   ],
   "source": [
    "data.isnull().sum()"
   ]
  },
  {
   "cell_type": "code",
   "execution_count": 14,
   "metadata": {},
   "outputs": [
    {
     "data": {
      "text/plain": [
       "194543"
      ]
     },
     "execution_count": 14,
     "metadata": {},
     "output_type": "execute_result"
    }
   ],
   "source": [
    "len(data)"
   ]
  },
  {
   "cell_type": "code",
   "execution_count": 15,
   "metadata": {},
   "outputs": [
    {
     "name": "stderr",
     "output_type": "stream",
     "text": [
      "C:\\Users\\user\\AppData\\Local\\Temp\\ipykernel_1192\\646225305.py:1: FutureWarning: The default value of regex will change from True to False in a future version.\n",
      "  data[\"document\"] = data[\"document\"].str.replace(\"[^ㄱ-하-ㅣ가힣]\",\"\")\n"
     ]
    }
   ],
   "source": [
    "data[\"document\"] = data[\"document\"].str.replace(\"[^ㄱ-하-ㅣ가힣]\",\"\")"
   ]
  },
  {
   "cell_type": "code",
   "execution_count": 16,
   "metadata": {},
   "outputs": [],
   "source": [
    "data[\"document\"].replace(\"\", np.nan, inplace=True)"
   ]
  },
  {
   "cell_type": "code",
   "execution_count": 17,
   "metadata": {},
   "outputs": [
    {
     "data": {
      "text/plain": [
       "id          0\n",
       "document    0\n",
       "label       0\n",
       "dtype: int64"
      ]
     },
     "execution_count": 17,
     "metadata": {},
     "output_type": "execute_result"
    }
   ],
   "source": [
    "data.dropna(inplace=True)\n",
    "data.isnull().sum()"
   ]
  },
  {
   "cell_type": "code",
   "execution_count": 18,
   "metadata": {},
   "outputs": [],
   "source": [
    "from sklearn.model_selection import train_test_split\n",
    "X_train, X_test, y_train, y_test = train_test_split(data.document,\n",
    "                                                    data.label,\n",
    "                                                    random_state=1234)"
   ]
  },
  {
   "cell_type": "code",
   "execution_count": 19,
   "metadata": {},
   "outputs": [],
   "source": [
    "stopwords = ['의','가','이','은','들','는','좀','잘','걍','과','도','를','으로',\n",
    "             '자','에','와','한','하다']"
   ]
  },
  {
   "cell_type": "code",
   "execution_count": 20,
   "metadata": {},
   "outputs": [],
   "source": [
    "okt = Okt()"
   ]
  },
  {
   "cell_type": "code",
   "execution_count": 28,
   "metadata": {},
   "outputs": [
    {
     "data": {
      "text/plain": [
       "['오늘', '날씨', '가', '춥다', '기분', '이', '좋다', '않다']"
      ]
     },
     "execution_count": 28,
     "metadata": {},
     "output_type": "execute_result"
    }
   ],
   "source": [
    "okt.morphs(\"오늘 날씨가 추워서 기분이 좋지않다\", stem=True)"
   ]
  },
  {
   "cell_type": "code",
   "execution_count": 29,
   "metadata": {},
   "outputs": [],
   "source": [
    "X_train = X_train[:10000]\n",
    "X_test = X_test[:10000]\n",
    "y_train = y_train[:10000]\n",
    "y_test = y_test[:10000]"
   ]
  },
  {
   "cell_type": "code",
   "execution_count": 30,
   "metadata": {},
   "outputs": [
    {
     "name": "stderr",
     "output_type": "stream",
     "text": [
      "100%|██████████| 10000/10000 [01:31<00:00, 109.11it/s]\n"
     ]
    }
   ],
   "source": [
    "train_x = []\n",
    "\n",
    "for s in tqdm(X_train):\n",
    "    temp_x = []\n",
    "    temp_x = okt.morphs(s, stem=True)\n",
    "    temp_x = [word for word in temp_x if not word in stopwords]\n",
    "    train_x.append(temp_x)"
   ]
  },
  {
   "cell_type": "code",
   "execution_count": 31,
   "metadata": {},
   "outputs": [
    {
     "name": "stderr",
     "output_type": "stream",
     "text": [
      "100%|██████████| 10000/10000 [01:37<00:00, 102.55it/s]\n"
     ]
    }
   ],
   "source": [
    "test_x = []\n",
    "\n",
    "for s in tqdm(X_test):\n",
    "    temp_x = []\n",
    "    temp_x = okt.morphs(s, stem=True)\n",
    "    temp_x = [word for word in temp_x if not word in stopwords]\n",
    "    test_x.append(temp_x)"
   ]
  },
  {
   "cell_type": "markdown",
   "metadata": {},
   "source": [
    "#### Word2Vec"
   ]
  },
  {
   "cell_type": "code",
   "execution_count": 32,
   "metadata": {},
   "outputs": [],
   "source": [
    "from gensim.models import Word2Vec"
   ]
  },
  {
   "cell_type": "code",
   "execution_count": 34,
   "metadata": {},
   "outputs": [],
   "source": [
    "w2v = Word2Vec(train_x, vector_size= 300, window=3, min_count=5)"
   ]
  },
  {
   "cell_type": "code",
   "execution_count": 35,
   "metadata": {},
   "outputs": [],
   "source": [
    "word_vectors = w2v.wv"
   ]
  },
  {
   "cell_type": "code",
   "execution_count": 54,
   "metadata": {},
   "outputs": [],
   "source": [
    "vocabs = word_vectors.key_to_index"
   ]
  },
  {
   "cell_type": "code",
   "execution_count": 55,
   "metadata": {},
   "outputs": [],
   "source": [
    "word_vectors_list = [word_vectors[v] for v in vocabs]"
   ]
  },
  {
   "cell_type": "code",
   "execution_count": 56,
   "metadata": {},
   "outputs": [
    {
     "data": {
      "text/plain": [
       "[array([-2.40090955e-02,  3.65090907e-01,  2.05336437e-02,  1.81614041e-01,\n",
       "         6.05320334e-02, -2.47453958e-01,  2.23493382e-01,  6.72335327e-01,\n",
       "         9.36673507e-02, -6.23529889e-02,  5.02594337e-02, -2.95155674e-01,\n",
       "         8.67623538e-02, -4.32313532e-02, -2.47247949e-01, -2.06124499e-01,\n",
       "         2.25482479e-01, -1.19071770e-02,  7.76485633e-03, -1.37817040e-01,\n",
       "        -1.50805965e-01, -2.64313892e-02,  2.20763505e-01,  4.17628363e-02,\n",
       "         2.22570479e-01,  3.03875413e-02, -2.80508578e-01,  4.11541499e-02,\n",
       "        -1.62170976e-01, -3.05706441e-01,  6.98432103e-02, -9.37404782e-02,\n",
       "         5.84497466e-04, -3.66787650e-02, -1.10227838e-02,  1.02988720e-01,\n",
       "         5.47199138e-02, -3.41454178e-01, -3.78923723e-03,  2.10739356e-02,\n",
       "        -5.78289479e-02,  8.18153620e-02, -2.88699213e-02, -2.49070704e-01,\n",
       "         1.90029383e-01,  2.72849500e-01,  1.11232465e-02,  1.09257579e-01,\n",
       "         5.35194250e-03,  2.48503417e-01,  2.58720219e-02,  7.47967213e-02,\n",
       "        -6.39881343e-02,  8.11560079e-02, -8.29245448e-02,  3.17814827e-01,\n",
       "         1.03913262e-01, -2.34556310e-02,  3.67053561e-02,  6.84112776e-03,\n",
       "        -7.54586235e-02, -1.08070992e-01, -7.32897818e-02,  1.23957038e-01,\n",
       "         3.83613184e-02,  5.51308766e-02, -1.67279672e-02,  7.33736008e-02,\n",
       "        -1.19104043e-01, -1.29584104e-01,  6.14336412e-03,  1.76228926e-01,\n",
       "         2.70707279e-01, -1.82426751e-01, -2.39852839e-03,  1.39811635e-01,\n",
       "        -2.74163157e-01,  2.03200802e-02, -9.04171839e-02,  2.85567373e-01,\n",
       "        -8.68454203e-02, -3.19995880e-01, -1.69133376e-02,  4.42472488e-01,\n",
       "         6.72061071e-02,  4.74503115e-02, -1.84981480e-01,  2.38924921e-02,\n",
       "         2.61234283e-01,  6.83055520e-02,  2.29723200e-01, -1.71982214e-01,\n",
       "         1.53792977e-01,  5.46642803e-02,  3.08854103e-01,  3.04713756e-01,\n",
       "         3.32030773e-01, -1.94855720e-01, -2.51256406e-01,  1.81120187e-01,\n",
       "         1.69131551e-02, -6.90325251e-05,  2.50637442e-01,  2.97731012e-02,\n",
       "         9.87026170e-02, -1.29619524e-01, -6.44000918e-02,  5.75701892e-02,\n",
       "        -2.27503359e-01,  3.90707180e-02, -2.81886488e-01, -1.01000048e-01,\n",
       "        -1.15652539e-01,  2.53334850e-01,  1.24977887e-01,  1.01006411e-01,\n",
       "        -2.97924988e-02, -3.31032127e-02,  3.11306864e-01, -3.03383738e-01,\n",
       "         1.31006598e-01,  1.10052980e-01,  1.46290079e-01, -6.41063377e-02,\n",
       "        -1.93685278e-01,  1.74315989e-01,  7.87080973e-02, -2.29940742e-01,\n",
       "        -4.71760444e-02,  8.85128155e-02,  1.06396250e-01,  2.83022463e-01,\n",
       "         4.18683328e-03, -2.48875275e-01,  6.22073896e-02,  8.37587118e-02,\n",
       "        -5.55213764e-02, -1.62165955e-01, -2.09510475e-01, -3.10425341e-01,\n",
       "         1.12866879e-01, -3.28722477e-01,  1.92150287e-02,  1.55518696e-01,\n",
       "         1.00186594e-01, -1.86042055e-01, -3.09391737e-01, -5.91900162e-02,\n",
       "         1.50230378e-01, -2.22209617e-01,  7.27785677e-02, -3.76658559e-01,\n",
       "        -1.54275775e-01, -1.26140565e-01,  4.43435200e-02,  9.21474546e-02,\n",
       "        -1.86893836e-01, -1.25098705e-01,  1.99266449e-02,  2.56955653e-01,\n",
       "         9.15364772e-02,  1.94450453e-01, -2.80194819e-01,  2.58131266e-01,\n",
       "        -1.56312689e-01,  8.44003633e-02, -5.04714102e-02, -6.36361539e-02,\n",
       "         6.61184639e-02,  3.50214273e-01, -1.07680395e-01,  2.13022716e-02,\n",
       "         1.33989051e-01,  8.02279040e-02,  1.20112868e-02,  8.41659680e-02,\n",
       "        -4.48601544e-02, -2.34356076e-01, -6.12444580e-02, -1.05683319e-01,\n",
       "        -1.25375867e-01,  1.60032645e-01, -2.26716965e-01, -9.66790989e-02,\n",
       "        -1.32249936e-01,  8.02673697e-02,  2.50602812e-01,  2.52329916e-01,\n",
       "         1.95653498e-01, -2.49839321e-01,  2.32648235e-02, -5.51333055e-02,\n",
       "        -3.44235063e-01, -2.34983098e-02,  2.39254590e-02, -2.41511390e-01,\n",
       "         3.05698682e-02, -2.40285859e-01,  1.09549969e-01, -9.13297534e-02,\n",
       "        -2.75530457e-01,  8.95746946e-02, -4.13389318e-02, -7.77643844e-02,\n",
       "        -1.03259534e-01, -1.01827346e-01, -9.88624468e-02,  9.73232538e-02,\n",
       "         3.87859903e-02, -3.92711610e-02,  9.58548393e-03, -1.74141169e-01,\n",
       "        -9.07651260e-02, -1.30681142e-01,  2.19627514e-01, -3.19942236e-01,\n",
       "        -1.49265483e-01, -4.96719539e-01, -3.36878598e-01, -2.29018912e-01,\n",
       "         1.00005679e-01, -1.23183168e-02, -1.73459277e-01, -2.05320448e-01,\n",
       "        -1.30939916e-01, -8.49925801e-02,  3.36239003e-02, -1.03242703e-01,\n",
       "        -2.55661041e-01,  1.22447118e-01,  1.89426810e-01, -7.00137541e-02,\n",
       "        -1.95824280e-01,  2.61416763e-01, -4.03870270e-02,  8.02180320e-02,\n",
       "         3.12536508e-02,  3.20948660e-02,  4.80208173e-02, -4.34426993e-01,\n",
       "         6.88560456e-02, -8.63224491e-02, -2.57872432e-01,  4.15577143e-02,\n",
       "         4.32492532e-02, -2.13801488e-01,  2.41956320e-02,  1.20650157e-01,\n",
       "        -7.73397684e-02,  1.79626465e-01,  1.82921916e-01,  3.78033817e-02,\n",
       "         6.46961406e-02,  1.77392866e-02, -3.17047983e-01, -1.97235867e-01,\n",
       "         3.45552683e-01,  7.17361495e-02, -3.78720075e-01, -1.70703515e-01,\n",
       "         2.20189556e-01,  1.82717204e-01, -2.45011207e-02, -3.53976429e-01,\n",
       "        -2.83045173e-01,  2.30736192e-02,  9.92266610e-02,  1.26644984e-01,\n",
       "        -1.76944971e-01,  4.93206158e-02, -2.25102767e-01,  3.68037708e-02,\n",
       "        -2.11644499e-03, -2.03465655e-01,  2.95518875e-01,  1.02670468e-01,\n",
       "         2.15732247e-01,  9.21277627e-02, -2.34482124e-01, -2.21574903e-02,\n",
       "         1.96474537e-01, -9.07243136e-03,  2.93639060e-02,  1.76278085e-01,\n",
       "         6.41970783e-02, -7.80668557e-02, -3.40651661e-01,  1.43250883e-01,\n",
       "         4.54770438e-02,  2.93107539e-01, -6.54053837e-02,  4.03646439e-01,\n",
       "         1.62537262e-01,  6.08538948e-02,  2.98307478e-01,  3.64770919e-01,\n",
       "        -3.75715829e-02, -1.72054112e-01,  1.83036864e-01, -1.55813485e-01],\n",
       "       dtype=float32)]"
      ]
     },
     "execution_count": 56,
     "metadata": {},
     "output_type": "execute_result"
    }
   ],
   "source": [
    "word_vectors_list[:1]"
   ]
  },
  {
   "cell_type": "code",
   "execution_count": 59,
   "metadata": {},
   "outputs": [
    {
     "data": {
      "text/plain": [
       "[('전', 0.9997943639755249),\n",
       " ('데', 0.9997907876968384),\n",
       " ('때문', 0.999789834022522),\n",
       " ('우리', 0.9997849464416504),\n",
       " ('지다', 0.9997844099998474),\n",
       " ('건지다', 0.9997806549072266),\n",
       " ('라', 0.9997804760932922),\n",
       " ('쓰다', 0.9997798800468445),\n",
       " ('년', 0.9997785687446594),\n",
       " ('아니다', 0.9997782111167908)]"
      ]
     },
     "execution_count": 59,
     "metadata": {},
     "output_type": "execute_result"
    }
   ],
   "source": [
    "# 유사한 단어 추출\n",
    "w2v.wv.most_similar(\"관객\")"
   ]
  },
  {
   "cell_type": "code",
   "execution_count": 60,
   "metadata": {},
   "outputs": [],
   "source": [
    "# 학습된 모델 저장\n",
    "w2v.save(\"w2v.bin\")"
   ]
  },
  {
   "cell_type": "code",
   "execution_count": 61,
   "metadata": {},
   "outputs": [],
   "source": [
    "# 저장된 모델 불러오기\n",
    "saved_w2v = Word2Vec.load(\"w2v.bin\")"
   ]
  },
  {
   "cell_type": "code",
   "execution_count": null,
   "metadata": {},
   "outputs": [],
   "source": []
  }
 ],
 "metadata": {
  "kernelspec": {
   "display_name": "Python 3.9.13 ('base')",
   "language": "python",
   "name": "python3"
  },
  "language_info": {
   "codemirror_mode": {
    "name": "ipython",
    "version": 3
   },
   "file_extension": ".py",
   "mimetype": "text/x-python",
   "name": "python",
   "nbconvert_exporter": "python",
   "pygments_lexer": "ipython3",
   "version": "3.9.13"
  },
  "orig_nbformat": 4,
  "vscode": {
   "interpreter": {
    "hash": "a077222d77dfe082b8f1dd562ad70e458ac2ab76993a0b248ab0476e32e9e8dd"
   }
  }
 },
 "nbformat": 4,
 "nbformat_minor": 2
}

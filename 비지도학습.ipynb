{
 "cells": [
  {
   "cell_type": "code",
   "execution_count": 14,
   "metadata": {},
   "outputs": [],
   "source": [
    "import pandas as pd\n",
    "import numpy as np"
   ]
  },
  {
   "cell_type": "code",
   "execution_count": 15,
   "metadata": {},
   "outputs": [],
   "source": [
    "c = pd.read_csv(\"customer_join.csv\")\n",
    "ul = pd.read_csv(\"use_log.csv\")"
   ]
  },
  {
   "cell_type": "code",
   "execution_count": 16,
   "metadata": {},
   "outputs": [
    {
     "data": {
      "text/plain": [
       "log_id         0\n",
       "customer_id    0\n",
       "usedate        0\n",
       "dtype: int64"
      ]
     },
     "execution_count": 16,
     "metadata": {},
     "output_type": "execute_result"
    }
   ],
   "source": [
    "ul.isnull().sum()"
   ]
  },
  {
   "cell_type": "code",
   "execution_count": 17,
   "metadata": {},
   "outputs": [
    {
     "data": {
      "text/plain": [
       "customer_id         0\n",
       "name                0\n",
       "class               0\n",
       "gender              0\n",
       "start_date          0\n",
       "end_date         2842\n",
       "campaign_id         0\n",
       "is_deleted          0\n",
       "class_name          0\n",
       "price               0\n",
       "campaign_name       0\n",
       "mean                0\n",
       "median              0\n",
       "amax                0\n",
       "amin                0\n",
       "flag1               0\n",
       "cal_date            0\n",
       "mem_period          0\n",
       "dtype: int64"
      ]
     },
     "execution_count": 17,
     "metadata": {},
     "output_type": "execute_result"
    }
   ],
   "source": [
    "c.isnull().sum()"
   ]
  },
  {
   "cell_type": "markdown",
   "metadata": {},
   "source": [
    "#### 클러스터 사용 K-Means\n",
    " - 군집개수 4개\n",
    " - mean, median, min, max 변수는 월 이용 회수와 관련된 변수 1~8값을 가짐\n",
    " - mem_period 단위 너무 크니 scaling"
   ]
  },
  {
   "cell_type": "code",
   "execution_count": 18,
   "metadata": {},
   "outputs": [
    {
     "data": {
      "text/html": [
       "<div>\n",
       "<style scoped>\n",
       "    .dataframe tbody tr th:only-of-type {\n",
       "        vertical-align: middle;\n",
       "    }\n",
       "\n",
       "    .dataframe tbody tr th {\n",
       "        vertical-align: top;\n",
       "    }\n",
       "\n",
       "    .dataframe thead th {\n",
       "        text-align: right;\n",
       "    }\n",
       "</style>\n",
       "<table border=\"1\" class=\"dataframe\">\n",
       "  <thead>\n",
       "    <tr style=\"text-align: right;\">\n",
       "      <th></th>\n",
       "      <th>mean</th>\n",
       "      <th>median</th>\n",
       "      <th>amax</th>\n",
       "      <th>amin</th>\n",
       "      <th>mem_period</th>\n",
       "    </tr>\n",
       "  </thead>\n",
       "  <tbody>\n",
       "    <tr>\n",
       "      <th>0</th>\n",
       "      <td>4.833333</td>\n",
       "      <td>5.0</td>\n",
       "      <td>8</td>\n",
       "      <td>2</td>\n",
       "      <td>47.968131</td>\n",
       "    </tr>\n",
       "    <tr>\n",
       "      <th>1</th>\n",
       "      <td>5.083333</td>\n",
       "      <td>5.0</td>\n",
       "      <td>7</td>\n",
       "      <td>3</td>\n",
       "      <td>47.968131</td>\n",
       "    </tr>\n",
       "    <tr>\n",
       "      <th>2</th>\n",
       "      <td>4.583333</td>\n",
       "      <td>5.0</td>\n",
       "      <td>6</td>\n",
       "      <td>3</td>\n",
       "      <td>47.968131</td>\n",
       "    </tr>\n",
       "    <tr>\n",
       "      <th>3</th>\n",
       "      <td>4.833333</td>\n",
       "      <td>4.5</td>\n",
       "      <td>7</td>\n",
       "      <td>2</td>\n",
       "      <td>47.968131</td>\n",
       "    </tr>\n",
       "    <tr>\n",
       "      <th>4</th>\n",
       "      <td>3.916667</td>\n",
       "      <td>4.0</td>\n",
       "      <td>6</td>\n",
       "      <td>1</td>\n",
       "      <td>47.968131</td>\n",
       "    </tr>\n",
       "  </tbody>\n",
       "</table>\n",
       "</div>"
      ],
      "text/plain": [
       "       mean  median  amax  amin  mem_period\n",
       "0  4.833333     5.0     8     2   47.968131\n",
       "1  5.083333     5.0     7     3   47.968131\n",
       "2  4.583333     5.0     6     3   47.968131\n",
       "3  4.833333     4.5     7     2   47.968131\n",
       "4  3.916667     4.0     6     1   47.968131"
      ]
     },
     "execution_count": 18,
     "metadata": {},
     "output_type": "execute_result"
    }
   ],
   "source": [
    "cc = c[[\"mean\", \"median\", \"amax\", \"amin\", \"mem_period\"]]\n",
    "cc.head()"
   ]
  },
  {
   "cell_type": "code",
   "execution_count": 19,
   "metadata": {},
   "outputs": [],
   "source": [
    "from sklearn.preprocessing import StandardScaler\n",
    "from sklearn.cluster import KMeans"
   ]
  },
  {
   "cell_type": "code",
   "execution_count": 20,
   "metadata": {},
   "outputs": [
    {
     "data": {
      "text/html": [
       "<div>\n",
       "<style scoped>\n",
       "    .dataframe tbody tr th:only-of-type {\n",
       "        vertical-align: middle;\n",
       "    }\n",
       "\n",
       "    .dataframe tbody tr th {\n",
       "        vertical-align: top;\n",
       "    }\n",
       "\n",
       "    .dataframe thead th {\n",
       "        text-align: right;\n",
       "    }\n",
       "</style>\n",
       "<table border=\"1\" class=\"dataframe\">\n",
       "  <thead>\n",
       "    <tr style=\"text-align: right;\">\n",
       "      <th></th>\n",
       "      <th>mean</th>\n",
       "      <th>median</th>\n",
       "      <th>amax</th>\n",
       "      <th>amin</th>\n",
       "      <th>mem_period</th>\n",
       "    </tr>\n",
       "  </thead>\n",
       "  <tbody>\n",
       "    <tr>\n",
       "      <th>0</th>\n",
       "      <td>-0.281206</td>\n",
       "      <td>-0.133676</td>\n",
       "      <td>0.081177</td>\n",
       "      <td>-0.533620</td>\n",
       "      <td>2.031859</td>\n",
       "    </tr>\n",
       "    <tr>\n",
       "      <th>1</th>\n",
       "      <td>-0.140545</td>\n",
       "      <td>-0.133676</td>\n",
       "      <td>-0.379928</td>\n",
       "      <td>-0.021149</td>\n",
       "      <td>2.031859</td>\n",
       "    </tr>\n",
       "    <tr>\n",
       "      <th>2</th>\n",
       "      <td>-0.421867</td>\n",
       "      <td>-0.133676</td>\n",
       "      <td>-0.841034</td>\n",
       "      <td>-0.021149</td>\n",
       "      <td>2.031859</td>\n",
       "    </tr>\n",
       "    <tr>\n",
       "      <th>3</th>\n",
       "      <td>-0.281206</td>\n",
       "      <td>-0.400393</td>\n",
       "      <td>-0.379928</td>\n",
       "      <td>-0.533620</td>\n",
       "      <td>2.031859</td>\n",
       "    </tr>\n",
       "    <tr>\n",
       "      <th>4</th>\n",
       "      <td>-0.796964</td>\n",
       "      <td>-0.667109</td>\n",
       "      <td>-0.841034</td>\n",
       "      <td>-1.046090</td>\n",
       "      <td>2.031859</td>\n",
       "    </tr>\n",
       "  </tbody>\n",
       "</table>\n",
       "</div>"
      ],
      "text/plain": [
       "       mean    median      amax      amin  mem_period\n",
       "0 -0.281206 -0.133676  0.081177 -0.533620    2.031859\n",
       "1 -0.140545 -0.133676 -0.379928 -0.021149    2.031859\n",
       "2 -0.421867 -0.133676 -0.841034 -0.021149    2.031859\n",
       "3 -0.281206 -0.400393 -0.379928 -0.533620    2.031859\n",
       "4 -0.796964 -0.667109 -0.841034 -1.046090    2.031859"
      ]
     },
     "execution_count": 20,
     "metadata": {},
     "output_type": "execute_result"
    }
   ],
   "source": [
    "scaler = StandardScaler()\n",
    "x_scaled = scaler.fit_transform(cc)\n",
    "x_scaled = pd.DataFrame(x_scaled, columns=[\"mean\", \"median\", \"amax\", \"amin\", \"mem_period\"])\n",
    "x_scaled.head()"
   ]
  },
  {
   "cell_type": "code",
   "execution_count": 21,
   "metadata": {},
   "outputs": [],
   "source": [
    "kmeans = KMeans(n_clusters=4, random_state=0)\n",
    "clusters = kmeans.fit(x_scaled)"
   ]
  },
  {
   "cell_type": "code",
   "execution_count": 22,
   "metadata": {},
   "outputs": [
    {
     "name": "stderr",
     "output_type": "stream",
     "text": [
      "C:\\Users\\user\\AppData\\Local\\Temp\\ipykernel_12524\\3599466053.py:1: SettingWithCopyWarning: \n",
      "A value is trying to be set on a copy of a slice from a DataFrame.\n",
      "Try using .loc[row_indexer,col_indexer] = value instead\n",
      "\n",
      "See the caveats in the documentation: https://pandas.pydata.org/pandas-docs/stable/user_guide/indexing.html#returning-a-view-versus-a-copy\n",
      "  cc[\"cluster\"] = clusters.labels_\n"
     ]
    },
    {
     "data": {
      "text/html": [
       "<div>\n",
       "<style scoped>\n",
       "    .dataframe tbody tr th:only-of-type {\n",
       "        vertical-align: middle;\n",
       "    }\n",
       "\n",
       "    .dataframe tbody tr th {\n",
       "        vertical-align: top;\n",
       "    }\n",
       "\n",
       "    .dataframe thead th {\n",
       "        text-align: right;\n",
       "    }\n",
       "</style>\n",
       "<table border=\"1\" class=\"dataframe\">\n",
       "  <thead>\n",
       "    <tr style=\"text-align: right;\">\n",
       "      <th></th>\n",
       "      <th>mean</th>\n",
       "      <th>median</th>\n",
       "      <th>amax</th>\n",
       "      <th>amin</th>\n",
       "      <th>mem_period</th>\n",
       "      <th>cluster</th>\n",
       "    </tr>\n",
       "  </thead>\n",
       "  <tbody>\n",
       "    <tr>\n",
       "      <th>0</th>\n",
       "      <td>4.833333</td>\n",
       "      <td>5.0</td>\n",
       "      <td>8</td>\n",
       "      <td>2</td>\n",
       "      <td>47.968131</td>\n",
       "      <td>1</td>\n",
       "    </tr>\n",
       "    <tr>\n",
       "      <th>1</th>\n",
       "      <td>5.083333</td>\n",
       "      <td>5.0</td>\n",
       "      <td>7</td>\n",
       "      <td>3</td>\n",
       "      <td>47.968131</td>\n",
       "      <td>1</td>\n",
       "    </tr>\n",
       "    <tr>\n",
       "      <th>2</th>\n",
       "      <td>4.583333</td>\n",
       "      <td>5.0</td>\n",
       "      <td>6</td>\n",
       "      <td>3</td>\n",
       "      <td>47.968131</td>\n",
       "      <td>1</td>\n",
       "    </tr>\n",
       "    <tr>\n",
       "      <th>3</th>\n",
       "      <td>4.833333</td>\n",
       "      <td>4.5</td>\n",
       "      <td>7</td>\n",
       "      <td>2</td>\n",
       "      <td>47.968131</td>\n",
       "      <td>1</td>\n",
       "    </tr>\n",
       "    <tr>\n",
       "      <th>4</th>\n",
       "      <td>3.916667</td>\n",
       "      <td>4.0</td>\n",
       "      <td>6</td>\n",
       "      <td>1</td>\n",
       "      <td>47.968131</td>\n",
       "      <td>1</td>\n",
       "    </tr>\n",
       "  </tbody>\n",
       "</table>\n",
       "</div>"
      ],
      "text/plain": [
       "       mean  median  amax  amin  mem_period  cluster\n",
       "0  4.833333     5.0     8     2   47.968131        1\n",
       "1  5.083333     5.0     7     3   47.968131        1\n",
       "2  4.583333     5.0     6     3   47.968131        1\n",
       "3  4.833333     4.5     7     2   47.968131        1\n",
       "4  3.916667     4.0     6     1   47.968131        1"
      ]
     },
     "execution_count": 22,
     "metadata": {},
     "output_type": "execute_result"
    }
   ],
   "source": [
    "cc[\"cluster\"] = clusters.labels_\n",
    "cc.head()"
   ]
  },
  {
   "cell_type": "code",
   "execution_count": 23,
   "metadata": {},
   "outputs": [
    {
     "name": "stderr",
     "output_type": "stream",
     "text": [
      "C:\\Users\\user\\AppData\\Local\\Temp\\ipykernel_12524\\382428698.py:1: SettingWithCopyWarning: \n",
      "A value is trying to be set on a copy of a slice from a DataFrame\n",
      "\n",
      "See the caveats in the documentation: https://pandas.pydata.org/pandas-docs/stable/user_guide/indexing.html#returning-a-view-versus-a-copy\n",
      "  cc.rename(columns={\"mean\" : \"월 평균\", \"median\" : \"월별 중간값\",\n"
     ]
    },
    {
     "data": {
      "text/html": [
       "<div>\n",
       "<style scoped>\n",
       "    .dataframe tbody tr th:only-of-type {\n",
       "        vertical-align: middle;\n",
       "    }\n",
       "\n",
       "    .dataframe tbody tr th {\n",
       "        vertical-align: top;\n",
       "    }\n",
       "\n",
       "    .dataframe thead th {\n",
       "        text-align: right;\n",
       "    }\n",
       "</style>\n",
       "<table border=\"1\" class=\"dataframe\">\n",
       "  <thead>\n",
       "    <tr style=\"text-align: right;\">\n",
       "      <th></th>\n",
       "      <th>월 평균</th>\n",
       "      <th>월별 중간값</th>\n",
       "      <th>월 최대값</th>\n",
       "      <th>월 최소값</th>\n",
       "      <th>회원기간</th>\n",
       "      <th>cluster</th>\n",
       "    </tr>\n",
       "  </thead>\n",
       "  <tbody>\n",
       "    <tr>\n",
       "      <th>0</th>\n",
       "      <td>4.833333</td>\n",
       "      <td>5.0</td>\n",
       "      <td>8</td>\n",
       "      <td>2</td>\n",
       "      <td>47.968131</td>\n",
       "      <td>1</td>\n",
       "    </tr>\n",
       "    <tr>\n",
       "      <th>1</th>\n",
       "      <td>5.083333</td>\n",
       "      <td>5.0</td>\n",
       "      <td>7</td>\n",
       "      <td>3</td>\n",
       "      <td>47.968131</td>\n",
       "      <td>1</td>\n",
       "    </tr>\n",
       "    <tr>\n",
       "      <th>2</th>\n",
       "      <td>4.583333</td>\n",
       "      <td>5.0</td>\n",
       "      <td>6</td>\n",
       "      <td>3</td>\n",
       "      <td>47.968131</td>\n",
       "      <td>1</td>\n",
       "    </tr>\n",
       "    <tr>\n",
       "      <th>3</th>\n",
       "      <td>4.833333</td>\n",
       "      <td>4.5</td>\n",
       "      <td>7</td>\n",
       "      <td>2</td>\n",
       "      <td>47.968131</td>\n",
       "      <td>1</td>\n",
       "    </tr>\n",
       "    <tr>\n",
       "      <th>4</th>\n",
       "      <td>3.916667</td>\n",
       "      <td>4.0</td>\n",
       "      <td>6</td>\n",
       "      <td>1</td>\n",
       "      <td>47.968131</td>\n",
       "      <td>1</td>\n",
       "    </tr>\n",
       "  </tbody>\n",
       "</table>\n",
       "</div>"
      ],
      "text/plain": [
       "       월 평균  월별 중간값  월 최대값  월 최소값       회원기간  cluster\n",
       "0  4.833333     5.0      8      2  47.968131        1\n",
       "1  5.083333     5.0      7      3  47.968131        1\n",
       "2  4.583333     5.0      6      3  47.968131        1\n",
       "3  4.833333     4.5      7      2  47.968131        1\n",
       "4  3.916667     4.0      6      1  47.968131        1"
      ]
     },
     "execution_count": 23,
     "metadata": {},
     "output_type": "execute_result"
    }
   ],
   "source": [
    "cc.rename(columns={\"mean\" : \"월 평균\", \"median\" : \"월별 중간값\",\n",
    "                   \"amax\" : \"월 최대값\", \"amin\" : \"월 최소값\",\n",
    "                   \"mem_period\" : \"회원기간\"}, inplace=True)\n",
    "cc.head()"
   ]
  },
  {
   "cell_type": "code",
   "execution_count": 25,
   "metadata": {},
   "outputs": [
    {
     "data": {
      "text/html": [
       "<div>\n",
       "<style scoped>\n",
       "    .dataframe tbody tr th:only-of-type {\n",
       "        vertical-align: middle;\n",
       "    }\n",
       "\n",
       "    .dataframe tbody tr th {\n",
       "        vertical-align: top;\n",
       "    }\n",
       "\n",
       "    .dataframe thead th {\n",
       "        text-align: right;\n",
       "    }\n",
       "</style>\n",
       "<table border=\"1\" class=\"dataframe\">\n",
       "  <thead>\n",
       "    <tr style=\"text-align: right;\">\n",
       "      <th></th>\n",
       "      <th>월 평균</th>\n",
       "      <th>월별 중간값</th>\n",
       "      <th>월 최대값</th>\n",
       "      <th>월 최소값</th>\n",
       "      <th>회원기간</th>\n",
       "    </tr>\n",
       "    <tr>\n",
       "      <th>cluster</th>\n",
       "      <th></th>\n",
       "      <th></th>\n",
       "      <th></th>\n",
       "      <th></th>\n",
       "      <th></th>\n",
       "    </tr>\n",
       "  </thead>\n",
       "  <tbody>\n",
       "    <tr>\n",
       "      <th>0</th>\n",
       "      <td>846</td>\n",
       "      <td>846</td>\n",
       "      <td>846</td>\n",
       "      <td>846</td>\n",
       "      <td>846</td>\n",
       "    </tr>\n",
       "    <tr>\n",
       "      <th>1</th>\n",
       "      <td>1251</td>\n",
       "      <td>1251</td>\n",
       "      <td>1251</td>\n",
       "      <td>1251</td>\n",
       "      <td>1251</td>\n",
       "    </tr>\n",
       "    <tr>\n",
       "      <th>2</th>\n",
       "      <td>759</td>\n",
       "      <td>759</td>\n",
       "      <td>759</td>\n",
       "      <td>759</td>\n",
       "      <td>759</td>\n",
       "    </tr>\n",
       "    <tr>\n",
       "      <th>3</th>\n",
       "      <td>1336</td>\n",
       "      <td>1336</td>\n",
       "      <td>1336</td>\n",
       "      <td>1336</td>\n",
       "      <td>1336</td>\n",
       "    </tr>\n",
       "  </tbody>\n",
       "</table>\n",
       "</div>"
      ],
      "text/plain": [
       "         월 평균  월별 중간값  월 최대값  월 최소값  회원기간\n",
       "cluster                                  \n",
       "0         846     846    846    846   846\n",
       "1        1251    1251   1251   1251  1251\n",
       "2         759     759    759    759   759\n",
       "3        1336    1336   1336   1336  1336"
      ]
     },
     "execution_count": 25,
     "metadata": {},
     "output_type": "execute_result"
    }
   ],
   "source": [
    "cc.groupby(\"cluster\").count()"
   ]
  },
  {
   "cell_type": "code",
   "execution_count": 30,
   "metadata": {},
   "outputs": [
    {
     "data": {
      "text/html": [
       "<div>\n",
       "<style scoped>\n",
       "    .dataframe tbody tr th:only-of-type {\n",
       "        vertical-align: middle;\n",
       "    }\n",
       "\n",
       "    .dataframe tbody tr th {\n",
       "        vertical-align: top;\n",
       "    }\n",
       "\n",
       "    .dataframe thead th {\n",
       "        text-align: right;\n",
       "    }\n",
       "</style>\n",
       "<table border=\"1\" class=\"dataframe\">\n",
       "  <thead>\n",
       "    <tr style=\"text-align: right;\">\n",
       "      <th></th>\n",
       "      <th>월 평균</th>\n",
       "      <th>월별 중간값</th>\n",
       "      <th>월 최대값</th>\n",
       "      <th>월 최소값</th>\n",
       "      <th>회원기간</th>\n",
       "    </tr>\n",
       "    <tr>\n",
       "      <th>cluster</th>\n",
       "      <th></th>\n",
       "      <th></th>\n",
       "      <th></th>\n",
       "      <th></th>\n",
       "      <th></th>\n",
       "    </tr>\n",
       "  </thead>\n",
       "  <tbody>\n",
       "    <tr>\n",
       "      <th>0</th>\n",
       "      <td>8.054608</td>\n",
       "      <td>8.039598</td>\n",
       "      <td>10.009456</td>\n",
       "      <td>6.160757</td>\n",
       "      <td>7.809637</td>\n",
       "    </tr>\n",
       "    <tr>\n",
       "      <th>1</th>\n",
       "      <td>4.676091</td>\n",
       "      <td>4.670264</td>\n",
       "      <td>7.231815</td>\n",
       "      <td>2.153477</td>\n",
       "      <td>37.819727</td>\n",
       "    </tr>\n",
       "    <tr>\n",
       "      <th>2</th>\n",
       "      <td>3.049270</td>\n",
       "      <td>2.882740</td>\n",
       "      <td>4.745718</td>\n",
       "      <td>1.652174</td>\n",
       "      <td>10.147960</td>\n",
       "    </tr>\n",
       "    <tr>\n",
       "      <th>3</th>\n",
       "      <td>5.522518</td>\n",
       "      <td>5.373129</td>\n",
       "      <td>8.743263</td>\n",
       "      <td>2.686377</td>\n",
       "      <td>15.688428</td>\n",
       "    </tr>\n",
       "  </tbody>\n",
       "</table>\n",
       "</div>"
      ],
      "text/plain": [
       "             월 평균    월별 중간값      월 최대값     월 최소값       회원기간\n",
       "cluster                                                    \n",
       "0        8.054608  8.039598  10.009456  6.160757   7.809637\n",
       "1        4.676091  4.670264   7.231815  2.153477  37.819727\n",
       "2        3.049270  2.882740   4.745718  1.652174  10.147960\n",
       "3        5.522518  5.373129   8.743263  2.686377  15.688428"
      ]
     },
     "execution_count": 30,
     "metadata": {},
     "output_type": "execute_result"
    }
   ],
   "source": [
    "cc.groupby(\"cluster\").mean()"
   ]
  },
  {
   "cell_type": "markdown",
   "metadata": {},
   "source": [
    " - 그룹0 : 평균 회원기간이 7일로 가장 짧고 월평균 회수가 8회로 가장 높음\n",
    " - 그룹1,3 : 평균 회원기간이 다른구룹보다는 긺. 그룹 1은 그룹3 보다 회원유지 기간은 길지만 월평균 이용회수는 적음\n",
    " - 그룹2 : 평균 회원유지기간이 다른 그룹보다 짧음 평균 이용회수도 3회로 가장 낮음\n",
    "\n",
    " 그룹별 특징을 정의해서 프로모션할 때 사용 가능할수 있다."
   ]
  },
  {
   "cell_type": "markdown",
   "metadata": {},
   "source": [
    "#### 차원축소\n"
   ]
  },
  {
   "cell_type": "code",
   "execution_count": null,
   "metadata": {},
   "outputs": [],
   "source": []
  }
 ],
 "metadata": {
  "kernelspec": {
   "display_name": "Python 3.9.13 ('base')",
   "language": "python",
   "name": "python3"
  },
  "language_info": {
   "codemirror_mode": {
    "name": "ipython",
    "version": 3
   },
   "file_extension": ".py",
   "mimetype": "text/x-python",
   "name": "python",
   "nbconvert_exporter": "python",
   "pygments_lexer": "ipython3",
   "version": "3.9.13"
  },
  "orig_nbformat": 4,
  "vscode": {
   "interpreter": {
    "hash": "a077222d77dfe082b8f1dd562ad70e458ac2ab76993a0b248ab0476e32e9e8dd"
   }
  }
 },
 "nbformat": 4,
 "nbformat_minor": 2
}
